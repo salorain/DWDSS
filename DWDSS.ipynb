{
 "cells": [
  {
   "cell_type": "markdown",
   "metadata": {},
   "source": [
    "\n",
    "<p style=\"text-align: center;font-size: 18px;\">\n",
    "    <span style=\"font-weight: bold;\">Microbiome Data Science</span>\n",
    "</p>\n",
    "<p style=\"text-align: center;\"><span style=\"font-size: 32px; font-weight: bold; background-color: #ffc627;\">\n",
    "    Sequencing Data Processing\n",
    "</span></p>\n",
    "<p style=\"text-align: center; font-size: 18px;\">\n",
    "    \n",
    "</p>"
   ]
  },
  {
   "cell_type": "markdown",
   "metadata": {},
   "source": [
    "## Data files"
   ]
  },
  {
   "cell_type": "markdown",
   "metadata": {},
   "source": [
    "## From Qiita to Qiime2"
   ]
  },
  {
   "cell_type": "code",
   "execution_count": 1,
   "metadata": {},
   "outputs": [
    {
     "name": "stdout",
     "output_type": "stream",
     "text": [
      "\u001b[32mImported dwdss as CasavaOneEightSingleLanePerSampleDirFmt to demux-paired-end.qza\u001b[0m\r\n"
     ]
    }
   ],
   "source": [
    "! qiime tools import \\\n",
    "  --type 'SampleData[PairedEndSequencesWithQuality]' \\\n",
    "  --input-path dwdss \\\n",
    "  --input-format CasavaOneEightSingleLanePerSampleDirFmt \\\n",
    "  --output-path demux-paired-end.qza\n"
   ]
  },
  {
   "cell_type": "code",
   "execution_count": null,
   "metadata": {},
   "outputs": [],
   "source": [
    "! qiime dada2 denoise-paired \\\n",
    "  --i-demultiplexed-seqs demux-paired-end.qza \\\n",
    "  --p-trim-left-f 13 \\\n",
    "  --p-trim-left-r 13 \\\n",
    "  --p-trunc-len-f 150 \\\n",
    "  --p-trunc-len-r 150 \\\n",
    "  --o-table table.qza \\\n",
    "  --o-representative-sequences rep-seqs.qza \\\n",
    "  --o-denoising-stats denoising-stats.qza"
   ]
  },
  {
   "cell_type": "code",
   "execution_count": null,
   "metadata": {
    "scrolled": false
   },
   "outputs": [],
   "source": [
    "!qiime feature-table summarize \\\n",
    "  --i-table table.qza \\\n",
    "  --o-visualization table.qzv \\\n",
    "  --m-sample-metadata-file metadata.tsv\n",
    "!qiime feature-table tabulate-seqs \\\n",
    "  --i-data rep-seqs.qza \\\n",
    "  --o-visualization rep-seqs.qzv"
   ]
  },
  {
   "cell_type": "code",
   "execution_count": 15,
   "metadata": {},
   "outputs": [
    {
     "name": "stdout",
     "output_type": "stream",
     "text": [
      "\u001b[32mSaved FeatureData[AlignedSequence] to: aligned-rep-seqs.qza\u001b[0m\n",
      "\u001b[32mSaved FeatureData[AlignedSequence] to: masked-aligned-rep-seqs.qza\u001b[0m\n",
      "\u001b[32mSaved Phylogeny[Unrooted] to: 10251unrooted-tree.qza\u001b[0m\n",
      "\u001b[32mSaved Phylogeny[Rooted] to: 102511rooted-tree.qza\u001b[0m\n"
     ]
    }
   ],
   "source": [
    "!qiime phylogeny align-to-tree-mafft-fasttree \\\n",
    "  --i-sequences 10251rep-seqs.qza \\\n",
    "  --o-alignment aligned-rep-seqs.qza \\\n",
    "  --o-masked-alignment masked-aligned-rep-seqs.qza \\\n",
    "  --o-tree 10251unrooted-tree.qza \\\n",
    "  --o-rooted-tree 102511rooted-tree.qza"
   ]
  },
  {
   "cell_type": "markdown",
   "metadata": {},
   "source": [
    "## Taxonomic analysis"
   ]
  },
  {
   "cell_type": "code",
   "execution_count": 6,
   "metadata": {},
   "outputs": [],
   "source": [
    "!curl -sL \\\n",
    "  \"https://data.qiime2.org/2021.2/common/gg-13-8-99-515-806-nb-classifier.qza\" > \\\n",
    "  \"gg-13-8-99-515-806-nb-classifier.qza\""
   ]
  },
  {
   "cell_type": "code",
   "execution_count": null,
   "metadata": {
    "scrolled": true
   },
   "outputs": [
    {
     "name": "stdout",
     "output_type": "stream",
     "text": [
      "^C\r\n",
      "\r\n",
      "Aborted!\r\n"
     ]
    }
   ],
   "source": [
    "!qiime feature-classifier classify-sklearn \\\n",
    "  --i-classifier gg-13-8-99-515-806-nb-classifier.qza \\\n",
    "  --i-reads 10251rep-seqs.qza \\\n",
    "  --o-classification taxonomy.qza\n",
    "\n",
    "!qiime metadata tabulate \\\n",
    "  --m-input-file taxonomy.qza \\\n",
    "  --o-visualization taxonomy.qzv"
   ]
  },
  {
   "cell_type": "markdown",
   "metadata": {},
   "source": [
    "### Barplot"
   ]
  },
  {
   "cell_type": "code",
   "execution_count": 30,
   "metadata": {},
   "outputs": [
    {
     "name": "stdout",
     "output_type": "stream",
     "text": [
      "\u001b[32mSaved Visualization to: barplot.qzv\u001b[0m\r\n"
     ]
    }
   ],
   "source": [
    "!qiime taxa barplot \\\n",
    "  --i-table table.qza \\\n",
    "  --i-taxonomy taxonomy.qza \\\n",
    "  --m-metadata-file metadata.tsv \\\n",
    "  --o-visualization barplot.qzv"
   ]
  },
  {
   "cell_type": "code",
   "execution_count": 1,
   "metadata": {},
   "outputs": [],
   "source": [
    "import numpy as np\n",
    "import pandas as pd"
   ]
  },
  {
   "cell_type": "code",
   "execution_count": 2,
   "metadata": {},
   "outputs": [],
   "source": [
    "import matplotlib as mpl\n",
    "import matplotlib.pyplot as plt"
   ]
  },
  {
   "cell_type": "code",
   "execution_count": 3,
   "metadata": {},
   "outputs": [],
   "source": [
    "%matplotlib inline\n"
   ]
  },
  {
   "cell_type": "code",
   "execution_count": 4,
   "metadata": {},
   "outputs": [],
   "source": [
    "from qiime2 import Metadata, Artifact"
   ]
  },
  {
   "cell_type": "code",
   "execution_count": 5,
   "metadata": {},
   "outputs": [],
   "source": [
    "metadata = Metadata.load('metadata.tsv')\n",
    "table = Artifact.load('table.qza')\n",
    "taxonomy = Artifact.load('taxonomy.qza')"
   ]
  },
  {
   "cell_type": "code",
   "execution_count": 12,
   "metadata": {},
   "outputs": [],
   "source": [
    "from qiime2.plugins.taxa.methods import collapse\n"
   ]
  },
  {
   "cell_type": "code",
   "execution_count": 13,
   "metadata": {},
   "outputs": [],
   "source": [
    "ranks = ['kingdom', 'phylum', 'class', 'order', 'family', 'genus', 'species']"
   ]
  },
  {
   "cell_type": "code",
   "execution_count": 14,
   "metadata": {},
   "outputs": [],
   "source": [
    "tables = {rank: collapse(table, taxonomy, i + 1).collapsed_table for i, rank in enumerate(ranks)}\n"
   ]
  },
  {
   "cell_type": "code",
   "execution_count": 15,
   "metadata": {},
   "outputs": [],
   "source": [
    "rank = 'order'"
   ]
  },
  {
   "cell_type": "code",
   "execution_count": 16,
   "metadata": {},
   "outputs": [
    {
     "data": {
      "text/html": [
       "<div>\n",
       "<style scoped>\n",
       "    .dataframe tbody tr th:only-of-type {\n",
       "        vertical-align: middle;\n",
       "    }\n",
       "\n",
       "    .dataframe tbody tr th {\n",
       "        vertical-align: top;\n",
       "    }\n",
       "\n",
       "    .dataframe thead th {\n",
       "        text-align: right;\n",
       "    }\n",
       "</style>\n",
       "<table border=\"1\" class=\"dataframe\">\n",
       "  <thead>\n",
       "    <tr style=\"text-align: right;\">\n",
       "      <th></th>\n",
       "      <th>Unassigned;__;__;__</th>\n",
       "      <th>k__Archaea;p__Crenarchaeota;c__Thaumarchaeota;o__Cenarchaeales</th>\n",
       "      <th>k__Archaea;p__Crenarchaeota;c__Thaumarchaeota;o__Nitrososphaerales</th>\n",
       "      <th>k__Archaea;p__Euryarchaeota;c__Methanobacteria;o__Methanobacteriales</th>\n",
       "      <th>k__Archaea;p__Euryarchaeota;c__Methanomicrobia;o__Methanomicrobiales</th>\n",
       "      <th>k__Archaea;p__Euryarchaeota;c__Thermoplasmata;o__E2</th>\n",
       "      <th>k__Bacteria;__;__;__</th>\n",
       "      <th>k__Bacteria;p__;c__;o__</th>\n",
       "      <th>k__Bacteria;p__Acidobacteria;c__Acidobacteria-6;o__BPC015</th>\n",
       "      <th>k__Bacteria;p__Acidobacteria;c__Acidobacteria-6;o__iii1-15</th>\n",
       "      <th>...</th>\n",
       "      <th>k__Bacteria;p__Verrucomicrobia;c__Opitutae;o__HA64</th>\n",
       "      <th>k__Bacteria;p__Verrucomicrobia;c__Opitutae;o__Opitutales</th>\n",
       "      <th>k__Bacteria;p__Verrucomicrobia;c__Opitutae;o__Puniceicoccales</th>\n",
       "      <th>k__Bacteria;p__Verrucomicrobia;c__Opitutae;o__[Cerasicoccales]</th>\n",
       "      <th>k__Bacteria;p__Verrucomicrobia;c__Verrucomicrobiae;o__Verrucomicrobiales</th>\n",
       "      <th>k__Bacteria;p__Verrucomicrobia;c__[Pedosphaerae];o__[Pedosphaerales]</th>\n",
       "      <th>k__Bacteria;p__Verrucomicrobia;c__[Spartobacteria];o__[Chthoniobacterales]</th>\n",
       "      <th>k__Bacteria;p__WPS-2;c__;o__</th>\n",
       "      <th>k__Bacteria;p__WWE1;c__[Cloacamonae];o__[Cloacamonales]</th>\n",
       "      <th>k__Bacteria;p__[Thermi];c__Deinococci;o__Thermales</th>\n",
       "    </tr>\n",
       "  </thead>\n",
       "  <tbody>\n",
       "    <tr>\n",
       "      <th>CC10_28</th>\n",
       "      <td>0.0</td>\n",
       "      <td>0.0</td>\n",
       "      <td>0.0</td>\n",
       "      <td>0.0</td>\n",
       "      <td>0.0</td>\n",
       "      <td>0.0</td>\n",
       "      <td>243.0</td>\n",
       "      <td>0.0</td>\n",
       "      <td>0.0</td>\n",
       "      <td>2.0</td>\n",
       "      <td>...</td>\n",
       "      <td>0.0</td>\n",
       "      <td>0.0</td>\n",
       "      <td>0.0</td>\n",
       "      <td>0.0</td>\n",
       "      <td>13.0</td>\n",
       "      <td>0.0</td>\n",
       "      <td>2.0</td>\n",
       "      <td>0.0</td>\n",
       "      <td>0.0</td>\n",
       "      <td>0.0</td>\n",
       "    </tr>\n",
       "    <tr>\n",
       "      <th>CC11_34</th>\n",
       "      <td>0.0</td>\n",
       "      <td>0.0</td>\n",
       "      <td>0.0</td>\n",
       "      <td>0.0</td>\n",
       "      <td>0.0</td>\n",
       "      <td>0.0</td>\n",
       "      <td>71.0</td>\n",
       "      <td>0.0</td>\n",
       "      <td>0.0</td>\n",
       "      <td>6.0</td>\n",
       "      <td>...</td>\n",
       "      <td>0.0</td>\n",
       "      <td>0.0</td>\n",
       "      <td>0.0</td>\n",
       "      <td>0.0</td>\n",
       "      <td>19.0</td>\n",
       "      <td>0.0</td>\n",
       "      <td>0.0</td>\n",
       "      <td>0.0</td>\n",
       "      <td>0.0</td>\n",
       "      <td>0.0</td>\n",
       "    </tr>\n",
       "    <tr>\n",
       "      <th>CC12_40</th>\n",
       "      <td>0.0</td>\n",
       "      <td>0.0</td>\n",
       "      <td>0.0</td>\n",
       "      <td>0.0</td>\n",
       "      <td>0.0</td>\n",
       "      <td>0.0</td>\n",
       "      <td>422.0</td>\n",
       "      <td>0.0</td>\n",
       "      <td>0.0</td>\n",
       "      <td>13.0</td>\n",
       "      <td>...</td>\n",
       "      <td>0.0</td>\n",
       "      <td>0.0</td>\n",
       "      <td>0.0</td>\n",
       "      <td>0.0</td>\n",
       "      <td>22.0</td>\n",
       "      <td>0.0</td>\n",
       "      <td>2.0</td>\n",
       "      <td>0.0</td>\n",
       "      <td>0.0</td>\n",
       "      <td>0.0</td>\n",
       "    </tr>\n",
       "    <tr>\n",
       "      <th>CC13_46</th>\n",
       "      <td>0.0</td>\n",
       "      <td>0.0</td>\n",
       "      <td>0.0</td>\n",
       "      <td>0.0</td>\n",
       "      <td>0.0</td>\n",
       "      <td>0.0</td>\n",
       "      <td>126.0</td>\n",
       "      <td>0.0</td>\n",
       "      <td>0.0</td>\n",
       "      <td>8.0</td>\n",
       "      <td>...</td>\n",
       "      <td>0.0</td>\n",
       "      <td>0.0</td>\n",
       "      <td>0.0</td>\n",
       "      <td>0.0</td>\n",
       "      <td>5.0</td>\n",
       "      <td>0.0</td>\n",
       "      <td>0.0</td>\n",
       "      <td>0.0</td>\n",
       "      <td>0.0</td>\n",
       "      <td>0.0</td>\n",
       "    </tr>\n",
       "    <tr>\n",
       "      <th>CC14_52</th>\n",
       "      <td>0.0</td>\n",
       "      <td>0.0</td>\n",
       "      <td>0.0</td>\n",
       "      <td>0.0</td>\n",
       "      <td>0.0</td>\n",
       "      <td>0.0</td>\n",
       "      <td>66.0</td>\n",
       "      <td>0.0</td>\n",
       "      <td>0.0</td>\n",
       "      <td>5.0</td>\n",
       "      <td>...</td>\n",
       "      <td>0.0</td>\n",
       "      <td>0.0</td>\n",
       "      <td>0.0</td>\n",
       "      <td>0.0</td>\n",
       "      <td>3.0</td>\n",
       "      <td>0.0</td>\n",
       "      <td>0.0</td>\n",
       "      <td>4.0</td>\n",
       "      <td>0.0</td>\n",
       "      <td>0.0</td>\n",
       "    </tr>\n",
       "  </tbody>\n",
       "</table>\n",
       "<p>5 rows × 169 columns</p>\n",
       "</div>"
      ],
      "text/plain": [
       "         Unassigned;__;__;__  \\\n",
       "CC10_28                  0.0   \n",
       "CC11_34                  0.0   \n",
       "CC12_40                  0.0   \n",
       "CC13_46                  0.0   \n",
       "CC14_52                  0.0   \n",
       "\n",
       "         k__Archaea;p__Crenarchaeota;c__Thaumarchaeota;o__Cenarchaeales  \\\n",
       "CC10_28                                                0.0                \n",
       "CC11_34                                                0.0                \n",
       "CC12_40                                                0.0                \n",
       "CC13_46                                                0.0                \n",
       "CC14_52                                                0.0                \n",
       "\n",
       "         k__Archaea;p__Crenarchaeota;c__Thaumarchaeota;o__Nitrososphaerales  \\\n",
       "CC10_28                                                0.0                    \n",
       "CC11_34                                                0.0                    \n",
       "CC12_40                                                0.0                    \n",
       "CC13_46                                                0.0                    \n",
       "CC14_52                                                0.0                    \n",
       "\n",
       "         k__Archaea;p__Euryarchaeota;c__Methanobacteria;o__Methanobacteriales  \\\n",
       "CC10_28                                                0.0                      \n",
       "CC11_34                                                0.0                      \n",
       "CC12_40                                                0.0                      \n",
       "CC13_46                                                0.0                      \n",
       "CC14_52                                                0.0                      \n",
       "\n",
       "         k__Archaea;p__Euryarchaeota;c__Methanomicrobia;o__Methanomicrobiales  \\\n",
       "CC10_28                                                0.0                      \n",
       "CC11_34                                                0.0                      \n",
       "CC12_40                                                0.0                      \n",
       "CC13_46                                                0.0                      \n",
       "CC14_52                                                0.0                      \n",
       "\n",
       "         k__Archaea;p__Euryarchaeota;c__Thermoplasmata;o__E2  \\\n",
       "CC10_28                                                0.0     \n",
       "CC11_34                                                0.0     \n",
       "CC12_40                                                0.0     \n",
       "CC13_46                                                0.0     \n",
       "CC14_52                                                0.0     \n",
       "\n",
       "         k__Bacteria;__;__;__  k__Bacteria;p__;c__;o__  \\\n",
       "CC10_28                 243.0                      0.0   \n",
       "CC11_34                  71.0                      0.0   \n",
       "CC12_40                 422.0                      0.0   \n",
       "CC13_46                 126.0                      0.0   \n",
       "CC14_52                  66.0                      0.0   \n",
       "\n",
       "         k__Bacteria;p__Acidobacteria;c__Acidobacteria-6;o__BPC015  \\\n",
       "CC10_28                                                0.0           \n",
       "CC11_34                                                0.0           \n",
       "CC12_40                                                0.0           \n",
       "CC13_46                                                0.0           \n",
       "CC14_52                                                0.0           \n",
       "\n",
       "         k__Bacteria;p__Acidobacteria;c__Acidobacteria-6;o__iii1-15  ...  \\\n",
       "CC10_28                                                2.0           ...   \n",
       "CC11_34                                                6.0           ...   \n",
       "CC12_40                                               13.0           ...   \n",
       "CC13_46                                                8.0           ...   \n",
       "CC14_52                                                5.0           ...   \n",
       "\n",
       "         k__Bacteria;p__Verrucomicrobia;c__Opitutae;o__HA64  \\\n",
       "CC10_28                                                0.0    \n",
       "CC11_34                                                0.0    \n",
       "CC12_40                                                0.0    \n",
       "CC13_46                                                0.0    \n",
       "CC14_52                                                0.0    \n",
       "\n",
       "         k__Bacteria;p__Verrucomicrobia;c__Opitutae;o__Opitutales  \\\n",
       "CC10_28                                                0.0          \n",
       "CC11_34                                                0.0          \n",
       "CC12_40                                                0.0          \n",
       "CC13_46                                                0.0          \n",
       "CC14_52                                                0.0          \n",
       "\n",
       "         k__Bacteria;p__Verrucomicrobia;c__Opitutae;o__Puniceicoccales  \\\n",
       "CC10_28                                                0.0               \n",
       "CC11_34                                                0.0               \n",
       "CC12_40                                                0.0               \n",
       "CC13_46                                                0.0               \n",
       "CC14_52                                                0.0               \n",
       "\n",
       "         k__Bacteria;p__Verrucomicrobia;c__Opitutae;o__[Cerasicoccales]  \\\n",
       "CC10_28                                                0.0                \n",
       "CC11_34                                                0.0                \n",
       "CC12_40                                                0.0                \n",
       "CC13_46                                                0.0                \n",
       "CC14_52                                                0.0                \n",
       "\n",
       "         k__Bacteria;p__Verrucomicrobia;c__Verrucomicrobiae;o__Verrucomicrobiales  \\\n",
       "CC10_28                                               13.0                          \n",
       "CC11_34                                               19.0                          \n",
       "CC12_40                                               22.0                          \n",
       "CC13_46                                                5.0                          \n",
       "CC14_52                                                3.0                          \n",
       "\n",
       "         k__Bacteria;p__Verrucomicrobia;c__[Pedosphaerae];o__[Pedosphaerales]  \\\n",
       "CC10_28                                                0.0                      \n",
       "CC11_34                                                0.0                      \n",
       "CC12_40                                                0.0                      \n",
       "CC13_46                                                0.0                      \n",
       "CC14_52                                                0.0                      \n",
       "\n",
       "         k__Bacteria;p__Verrucomicrobia;c__[Spartobacteria];o__[Chthoniobacterales]  \\\n",
       "CC10_28                                                2.0                            \n",
       "CC11_34                                                0.0                            \n",
       "CC12_40                                                2.0                            \n",
       "CC13_46                                                0.0                            \n",
       "CC14_52                                                0.0                            \n",
       "\n",
       "         k__Bacteria;p__WPS-2;c__;o__  \\\n",
       "CC10_28                           0.0   \n",
       "CC11_34                           0.0   \n",
       "CC12_40                           0.0   \n",
       "CC13_46                           0.0   \n",
       "CC14_52                           4.0   \n",
       "\n",
       "         k__Bacteria;p__WWE1;c__[Cloacamonae];o__[Cloacamonales]  \\\n",
       "CC10_28                                                0.0         \n",
       "CC11_34                                                0.0         \n",
       "CC12_40                                                0.0         \n",
       "CC13_46                                                0.0         \n",
       "CC14_52                                                0.0         \n",
       "\n",
       "         k__Bacteria;p__[Thermi];c__Deinococci;o__Thermales  \n",
       "CC10_28                                                0.0   \n",
       "CC11_34                                                0.0   \n",
       "CC12_40                                                0.0   \n",
       "CC13_46                                                0.0   \n",
       "CC14_52                                                0.0   \n",
       "\n",
       "[5 rows x 169 columns]"
      ]
     },
     "execution_count": 16,
     "metadata": {},
     "output_type": "execute_result"
    }
   ],
   "source": [
    "df = tables[rank].view(pd.DataFrame)\n",
    "df.head()"
   ]
  },
  {
   "cell_type": "code",
   "execution_count": 17,
   "metadata": {},
   "outputs": [],
   "source": [
    "field = 'Material_type'"
   ]
  },
  {
   "cell_type": "code",
   "execution_count": 18,
   "metadata": {},
   "outputs": [],
   "source": [
    "df[field] = df.index.map(metadata.get_column(field).to_series())\n"
   ]
  },
  {
   "cell_type": "code",
   "execution_count": 19,
   "metadata": {},
   "outputs": [
    {
     "data": {
      "text/html": [
       "<div>\n",
       "<style scoped>\n",
       "    .dataframe tbody tr th:only-of-type {\n",
       "        vertical-align: middle;\n",
       "    }\n",
       "\n",
       "    .dataframe tbody tr th {\n",
       "        vertical-align: top;\n",
       "    }\n",
       "\n",
       "    .dataframe thead th {\n",
       "        text-align: right;\n",
       "    }\n",
       "</style>\n",
       "<table border=\"1\" class=\"dataframe\">\n",
       "  <thead>\n",
       "    <tr style=\"text-align: right;\">\n",
       "      <th></th>\n",
       "      <th>Unassigned;__;__;__</th>\n",
       "      <th>k__Archaea;p__Crenarchaeota;c__Thaumarchaeota;o__Cenarchaeales</th>\n",
       "      <th>k__Archaea;p__Crenarchaeota;c__Thaumarchaeota;o__Nitrososphaerales</th>\n",
       "      <th>k__Archaea;p__Euryarchaeota;c__Methanobacteria;o__Methanobacteriales</th>\n",
       "      <th>k__Archaea;p__Euryarchaeota;c__Methanomicrobia;o__Methanomicrobiales</th>\n",
       "      <th>k__Archaea;p__Euryarchaeota;c__Thermoplasmata;o__E2</th>\n",
       "      <th>k__Bacteria;__;__;__</th>\n",
       "      <th>k__Bacteria;p__;c__;o__</th>\n",
       "      <th>k__Bacteria;p__Acidobacteria;c__Acidobacteria-6;o__BPC015</th>\n",
       "      <th>k__Bacteria;p__Acidobacteria;c__Acidobacteria-6;o__iii1-15</th>\n",
       "      <th>...</th>\n",
       "      <th>k__Bacteria;p__Verrucomicrobia;c__Opitutae;o__HA64</th>\n",
       "      <th>k__Bacteria;p__Verrucomicrobia;c__Opitutae;o__Opitutales</th>\n",
       "      <th>k__Bacteria;p__Verrucomicrobia;c__Opitutae;o__Puniceicoccales</th>\n",
       "      <th>k__Bacteria;p__Verrucomicrobia;c__Opitutae;o__[Cerasicoccales]</th>\n",
       "      <th>k__Bacteria;p__Verrucomicrobia;c__Verrucomicrobiae;o__Verrucomicrobiales</th>\n",
       "      <th>k__Bacteria;p__Verrucomicrobia;c__[Pedosphaerae];o__[Pedosphaerales]</th>\n",
       "      <th>k__Bacteria;p__Verrucomicrobia;c__[Spartobacteria];o__[Chthoniobacterales]</th>\n",
       "      <th>k__Bacteria;p__WPS-2;c__;o__</th>\n",
       "      <th>k__Bacteria;p__WWE1;c__[Cloacamonae];o__[Cloacamonales]</th>\n",
       "      <th>k__Bacteria;p__[Thermi];c__Deinococci;o__Thermales</th>\n",
       "    </tr>\n",
       "    <tr>\n",
       "      <th>Material_type</th>\n",
       "      <th></th>\n",
       "      <th></th>\n",
       "      <th></th>\n",
       "      <th></th>\n",
       "      <th></th>\n",
       "      <th></th>\n",
       "      <th></th>\n",
       "      <th></th>\n",
       "      <th></th>\n",
       "      <th></th>\n",
       "      <th></th>\n",
       "      <th></th>\n",
       "      <th></th>\n",
       "      <th></th>\n",
       "      <th></th>\n",
       "      <th></th>\n",
       "      <th></th>\n",
       "      <th></th>\n",
       "      <th></th>\n",
       "      <th></th>\n",
       "      <th></th>\n",
       "    </tr>\n",
       "  </thead>\n",
       "  <tbody>\n",
       "    <tr>\n",
       "      <th>Copper</th>\n",
       "      <td>38.0</td>\n",
       "      <td>0.0</td>\n",
       "      <td>34.0</td>\n",
       "      <td>9.0</td>\n",
       "      <td>0.0</td>\n",
       "      <td>0.0</td>\n",
       "      <td>5646.0</td>\n",
       "      <td>5.0</td>\n",
       "      <td>0.0</td>\n",
       "      <td>296.0</td>\n",
       "      <td>...</td>\n",
       "      <td>71.0</td>\n",
       "      <td>426.0</td>\n",
       "      <td>0.0</td>\n",
       "      <td>0.0</td>\n",
       "      <td>162.0</td>\n",
       "      <td>80.0</td>\n",
       "      <td>7.0</td>\n",
       "      <td>114.0</td>\n",
       "      <td>0.0</td>\n",
       "      <td>0.0</td>\n",
       "    </tr>\n",
       "    <tr>\n",
       "      <th>PVC</th>\n",
       "      <td>44.0</td>\n",
       "      <td>0.0</td>\n",
       "      <td>157.0</td>\n",
       "      <td>28.0</td>\n",
       "      <td>10.0</td>\n",
       "      <td>0.0</td>\n",
       "      <td>1591.0</td>\n",
       "      <td>237.0</td>\n",
       "      <td>0.0</td>\n",
       "      <td>1917.0</td>\n",
       "      <td>...</td>\n",
       "      <td>4.0</td>\n",
       "      <td>437.0</td>\n",
       "      <td>0.0</td>\n",
       "      <td>13.0</td>\n",
       "      <td>255.0</td>\n",
       "      <td>112.0</td>\n",
       "      <td>39.0</td>\n",
       "      <td>70.0</td>\n",
       "      <td>0.0</td>\n",
       "      <td>3.0</td>\n",
       "    </tr>\n",
       "    <tr>\n",
       "      <th>Steel</th>\n",
       "      <td>16.0</td>\n",
       "      <td>2.0</td>\n",
       "      <td>41.0</td>\n",
       "      <td>0.0</td>\n",
       "      <td>7.0</td>\n",
       "      <td>4.0</td>\n",
       "      <td>1490.0</td>\n",
       "      <td>67.0</td>\n",
       "      <td>4.0</td>\n",
       "      <td>1531.0</td>\n",
       "      <td>...</td>\n",
       "      <td>6.0</td>\n",
       "      <td>85.0</td>\n",
       "      <td>6.0</td>\n",
       "      <td>4.0</td>\n",
       "      <td>138.0</td>\n",
       "      <td>443.0</td>\n",
       "      <td>45.0</td>\n",
       "      <td>237.0</td>\n",
       "      <td>4.0</td>\n",
       "      <td>2.0</td>\n",
       "    </tr>\n",
       "  </tbody>\n",
       "</table>\n",
       "<p>3 rows × 169 columns</p>\n",
       "</div>"
      ],
      "text/plain": [
       "               Unassigned;__;__;__  \\\n",
       "Material_type                        \n",
       "Copper                        38.0   \n",
       "PVC                           44.0   \n",
       "Steel                         16.0   \n",
       "\n",
       "               k__Archaea;p__Crenarchaeota;c__Thaumarchaeota;o__Cenarchaeales  \\\n",
       "Material_type                                                                   \n",
       "Copper                                                       0.0                \n",
       "PVC                                                          0.0                \n",
       "Steel                                                        2.0                \n",
       "\n",
       "               k__Archaea;p__Crenarchaeota;c__Thaumarchaeota;o__Nitrososphaerales  \\\n",
       "Material_type                                                                       \n",
       "Copper                                                      34.0                    \n",
       "PVC                                                        157.0                    \n",
       "Steel                                                       41.0                    \n",
       "\n",
       "               k__Archaea;p__Euryarchaeota;c__Methanobacteria;o__Methanobacteriales  \\\n",
       "Material_type                                                                         \n",
       "Copper                                                       9.0                      \n",
       "PVC                                                         28.0                      \n",
       "Steel                                                        0.0                      \n",
       "\n",
       "               k__Archaea;p__Euryarchaeota;c__Methanomicrobia;o__Methanomicrobiales  \\\n",
       "Material_type                                                                         \n",
       "Copper                                                       0.0                      \n",
       "PVC                                                         10.0                      \n",
       "Steel                                                        7.0                      \n",
       "\n",
       "               k__Archaea;p__Euryarchaeota;c__Thermoplasmata;o__E2  \\\n",
       "Material_type                                                        \n",
       "Copper                                                       0.0     \n",
       "PVC                                                          0.0     \n",
       "Steel                                                        4.0     \n",
       "\n",
       "               k__Bacteria;__;__;__  k__Bacteria;p__;c__;o__  \\\n",
       "Material_type                                                  \n",
       "Copper                       5646.0                      5.0   \n",
       "PVC                          1591.0                    237.0   \n",
       "Steel                        1490.0                     67.0   \n",
       "\n",
       "               k__Bacteria;p__Acidobacteria;c__Acidobacteria-6;o__BPC015  \\\n",
       "Material_type                                                              \n",
       "Copper                                                       0.0           \n",
       "PVC                                                          0.0           \n",
       "Steel                                                        4.0           \n",
       "\n",
       "               k__Bacteria;p__Acidobacteria;c__Acidobacteria-6;o__iii1-15  \\\n",
       "Material_type                                                               \n",
       "Copper                                                     296.0            \n",
       "PVC                                                       1917.0            \n",
       "Steel                                                     1531.0            \n",
       "\n",
       "               ...  k__Bacteria;p__Verrucomicrobia;c__Opitutae;o__HA64  \\\n",
       "Material_type  ...                                                       \n",
       "Copper         ...                                               71.0    \n",
       "PVC            ...                                                4.0    \n",
       "Steel          ...                                                6.0    \n",
       "\n",
       "               k__Bacteria;p__Verrucomicrobia;c__Opitutae;o__Opitutales  \\\n",
       "Material_type                                                             \n",
       "Copper                                                     426.0          \n",
       "PVC                                                        437.0          \n",
       "Steel                                                       85.0          \n",
       "\n",
       "               k__Bacteria;p__Verrucomicrobia;c__Opitutae;o__Puniceicoccales  \\\n",
       "Material_type                                                                  \n",
       "Copper                                                       0.0               \n",
       "PVC                                                          0.0               \n",
       "Steel                                                        6.0               \n",
       "\n",
       "               k__Bacteria;p__Verrucomicrobia;c__Opitutae;o__[Cerasicoccales]  \\\n",
       "Material_type                                                                   \n",
       "Copper                                                       0.0                \n",
       "PVC                                                         13.0                \n",
       "Steel                                                        4.0                \n",
       "\n",
       "               k__Bacteria;p__Verrucomicrobia;c__Verrucomicrobiae;o__Verrucomicrobiales  \\\n",
       "Material_type                                                                             \n",
       "Copper                                                     162.0                          \n",
       "PVC                                                        255.0                          \n",
       "Steel                                                      138.0                          \n",
       "\n",
       "               k__Bacteria;p__Verrucomicrobia;c__[Pedosphaerae];o__[Pedosphaerales]  \\\n",
       "Material_type                                                                         \n",
       "Copper                                                      80.0                      \n",
       "PVC                                                        112.0                      \n",
       "Steel                                                      443.0                      \n",
       "\n",
       "               k__Bacteria;p__Verrucomicrobia;c__[Spartobacteria];o__[Chthoniobacterales]  \\\n",
       "Material_type                                                                               \n",
       "Copper                                                       7.0                            \n",
       "PVC                                                         39.0                            \n",
       "Steel                                                       45.0                            \n",
       "\n",
       "               k__Bacteria;p__WPS-2;c__;o__  \\\n",
       "Material_type                                 \n",
       "Copper                                114.0   \n",
       "PVC                                    70.0   \n",
       "Steel                                 237.0   \n",
       "\n",
       "               k__Bacteria;p__WWE1;c__[Cloacamonae];o__[Cloacamonales]  \\\n",
       "Material_type                                                            \n",
       "Copper                                                       0.0         \n",
       "PVC                                                          0.0         \n",
       "Steel                                                        4.0         \n",
       "\n",
       "               k__Bacteria;p__[Thermi];c__Deinococci;o__Thermales  \n",
       "Material_type                                                      \n",
       "Copper                                                       0.0   \n",
       "PVC                                                          3.0   \n",
       "Steel                                                        2.0   \n",
       "\n",
       "[3 rows x 169 columns]"
      ]
     },
     "execution_count": 19,
     "metadata": {},
     "output_type": "execute_result"
    }
   ],
   "source": [
    "df = df.groupby(field).sum()\n",
    "df.head()"
   ]
  },
  {
   "cell_type": "code",
   "execution_count": 20,
   "metadata": {},
   "outputs": [
    {
     "data": {
      "text/html": [
       "<div>\n",
       "<style scoped>\n",
       "    .dataframe tbody tr th:only-of-type {\n",
       "        vertical-align: middle;\n",
       "    }\n",
       "\n",
       "    .dataframe tbody tr th {\n",
       "        vertical-align: top;\n",
       "    }\n",
       "\n",
       "    .dataframe thead th {\n",
       "        text-align: right;\n",
       "    }\n",
       "</style>\n",
       "<table border=\"1\" class=\"dataframe\">\n",
       "  <thead>\n",
       "    <tr style=\"text-align: right;\">\n",
       "      <th>Material_type</th>\n",
       "      <th>Copper</th>\n",
       "      <th>PVC</th>\n",
       "      <th>Steel</th>\n",
       "    </tr>\n",
       "  </thead>\n",
       "  <tbody>\n",
       "    <tr>\n",
       "      <th>Unassigned;__;__;__</th>\n",
       "      <td>38.0</td>\n",
       "      <td>44.0</td>\n",
       "      <td>16.0</td>\n",
       "    </tr>\n",
       "    <tr>\n",
       "      <th>k__Archaea;p__Crenarchaeota;c__Thaumarchaeota;o__Cenarchaeales</th>\n",
       "      <td>0.0</td>\n",
       "      <td>0.0</td>\n",
       "      <td>2.0</td>\n",
       "    </tr>\n",
       "    <tr>\n",
       "      <th>k__Archaea;p__Crenarchaeota;c__Thaumarchaeota;o__Nitrososphaerales</th>\n",
       "      <td>34.0</td>\n",
       "      <td>157.0</td>\n",
       "      <td>41.0</td>\n",
       "    </tr>\n",
       "    <tr>\n",
       "      <th>k__Archaea;p__Euryarchaeota;c__Methanobacteria;o__Methanobacteriales</th>\n",
       "      <td>9.0</td>\n",
       "      <td>28.0</td>\n",
       "      <td>0.0</td>\n",
       "    </tr>\n",
       "    <tr>\n",
       "      <th>k__Archaea;p__Euryarchaeota;c__Methanomicrobia;o__Methanomicrobiales</th>\n",
       "      <td>0.0</td>\n",
       "      <td>10.0</td>\n",
       "      <td>7.0</td>\n",
       "    </tr>\n",
       "  </tbody>\n",
       "</table>\n",
       "</div>"
      ],
      "text/plain": [
       "Material_type                                       Copper    PVC  Steel\n",
       "Unassigned;__;__;__                                   38.0   44.0   16.0\n",
       "k__Archaea;p__Crenarchaeota;c__Thaumarchaeota;o...     0.0    0.0    2.0\n",
       "k__Archaea;p__Crenarchaeota;c__Thaumarchaeota;o...    34.0  157.0   41.0\n",
       "k__Archaea;p__Euryarchaeota;c__Methanobacteria;...     9.0   28.0    0.0\n",
       "k__Archaea;p__Euryarchaeota;c__Methanomicrobia;...     0.0   10.0    7.0"
      ]
     },
     "execution_count": 20,
     "metadata": {},
     "output_type": "execute_result"
    }
   ],
   "source": [
    "df = df.T\n",
    "df.head()"
   ]
  },
  {
   "cell_type": "code",
   "execution_count": 21,
   "metadata": {},
   "outputs": [],
   "source": [
    "def last_taxon(lineage):\n",
    "    if lineage.startswith('Unassigned'):\n",
    "        return 'Unassigned'\n",
    "    elif lineage.endswith('__'):\n",
    "        return 'Unassigned'\n",
    "    else:\n",
    "        return lineage.split(';')[-1].split('__')[1]"
   ]
  },
  {
   "cell_type": "code",
   "execution_count": 22,
   "metadata": {},
   "outputs": [
    {
     "data": {
      "text/html": [
       "<div>\n",
       "<style scoped>\n",
       "    .dataframe tbody tr th:only-of-type {\n",
       "        vertical-align: middle;\n",
       "    }\n",
       "\n",
       "    .dataframe tbody tr th {\n",
       "        vertical-align: top;\n",
       "    }\n",
       "\n",
       "    .dataframe thead th {\n",
       "        text-align: right;\n",
       "    }\n",
       "</style>\n",
       "<table border=\"1\" class=\"dataframe\">\n",
       "  <thead>\n",
       "    <tr style=\"text-align: right;\">\n",
       "      <th>Material_type</th>\n",
       "      <th>Copper</th>\n",
       "      <th>PVC</th>\n",
       "      <th>Steel</th>\n",
       "    </tr>\n",
       "  </thead>\n",
       "  <tbody>\n",
       "    <tr>\n",
       "      <th>Unassigned</th>\n",
       "      <td>38.0</td>\n",
       "      <td>44.0</td>\n",
       "      <td>16.0</td>\n",
       "    </tr>\n",
       "    <tr>\n",
       "      <th>Cenarchaeales</th>\n",
       "      <td>0.0</td>\n",
       "      <td>0.0</td>\n",
       "      <td>2.0</td>\n",
       "    </tr>\n",
       "    <tr>\n",
       "      <th>Nitrososphaerales</th>\n",
       "      <td>34.0</td>\n",
       "      <td>157.0</td>\n",
       "      <td>41.0</td>\n",
       "    </tr>\n",
       "    <tr>\n",
       "      <th>Methanobacteriales</th>\n",
       "      <td>9.0</td>\n",
       "      <td>28.0</td>\n",
       "      <td>0.0</td>\n",
       "    </tr>\n",
       "    <tr>\n",
       "      <th>Methanomicrobiales</th>\n",
       "      <td>0.0</td>\n",
       "      <td>10.0</td>\n",
       "      <td>7.0</td>\n",
       "    </tr>\n",
       "  </tbody>\n",
       "</table>\n",
       "</div>"
      ],
      "text/plain": [
       "Material_type       Copper    PVC  Steel\n",
       "Unassigned            38.0   44.0   16.0\n",
       "Cenarchaeales          0.0    0.0    2.0\n",
       "Nitrososphaerales     34.0  157.0   41.0\n",
       "Methanobacteriales     9.0   28.0    0.0\n",
       "Methanomicrobiales     0.0   10.0    7.0"
      ]
     },
     "execution_count": 22,
     "metadata": {},
     "output_type": "execute_result"
    }
   ],
   "source": [
    "df.index = df.index.to_series().apply(last_taxon)\n",
    "df.head()"
   ]
  },
  {
   "cell_type": "code",
   "execution_count": 23,
   "metadata": {
    "scrolled": true
   },
   "outputs": [
    {
     "data": {
      "text/html": [
       "<div>\n",
       "<style scoped>\n",
       "    .dataframe tbody tr th:only-of-type {\n",
       "        vertical-align: middle;\n",
       "    }\n",
       "\n",
       "    .dataframe tbody tr th {\n",
       "        vertical-align: top;\n",
       "    }\n",
       "\n",
       "    .dataframe thead th {\n",
       "        text-align: right;\n",
       "    }\n",
       "</style>\n",
       "<table border=\"1\" class=\"dataframe\">\n",
       "  <thead>\n",
       "    <tr style=\"text-align: right;\">\n",
       "      <th>Material_type</th>\n",
       "      <th>Copper</th>\n",
       "      <th>PVC</th>\n",
       "      <th>Steel</th>\n",
       "    </tr>\n",
       "  </thead>\n",
       "  <tbody>\n",
       "    <tr>\n",
       "      <th>0319-7L14</th>\n",
       "      <td>3.0</td>\n",
       "      <td>16.0</td>\n",
       "      <td>0.0</td>\n",
       "    </tr>\n",
       "    <tr>\n",
       "      <th>34P16</th>\n",
       "      <td>40.0</td>\n",
       "      <td>45.0</td>\n",
       "      <td>30.0</td>\n",
       "    </tr>\n",
       "    <tr>\n",
       "      <th>AKIW781</th>\n",
       "      <td>4.0</td>\n",
       "      <td>16.0</td>\n",
       "      <td>6.0</td>\n",
       "    </tr>\n",
       "    <tr>\n",
       "      <th>AKYG1722</th>\n",
       "      <td>0.0</td>\n",
       "      <td>4.0</td>\n",
       "      <td>0.0</td>\n",
       "    </tr>\n",
       "    <tr>\n",
       "      <th>AKYG885</th>\n",
       "      <td>7.0</td>\n",
       "      <td>0.0</td>\n",
       "      <td>0.0</td>\n",
       "    </tr>\n",
       "  </tbody>\n",
       "</table>\n",
       "</div>"
      ],
      "text/plain": [
       "Material_type  Copper   PVC  Steel\n",
       "0319-7L14         3.0  16.0    0.0\n",
       "34P16            40.0  45.0   30.0\n",
       "AKIW781           4.0  16.0    6.0\n",
       "AKYG1722          0.0   4.0    0.0\n",
       "AKYG885           7.0   0.0    0.0"
      ]
     },
     "execution_count": 23,
     "metadata": {},
     "output_type": "execute_result"
    }
   ],
   "source": [
    "df = df.groupby(level=0).sum()\n",
    "df.head()"
   ]
  },
  {
   "cell_type": "code",
   "execution_count": 24,
   "metadata": {},
   "outputs": [
    {
     "data": {
      "text/html": [
       "<div>\n",
       "<style scoped>\n",
       "    .dataframe tbody tr th:only-of-type {\n",
       "        vertical-align: middle;\n",
       "    }\n",
       "\n",
       "    .dataframe tbody tr th {\n",
       "        vertical-align: top;\n",
       "    }\n",
       "\n",
       "    .dataframe thead th {\n",
       "        text-align: right;\n",
       "    }\n",
       "</style>\n",
       "<table border=\"1\" class=\"dataframe\">\n",
       "  <thead>\n",
       "    <tr style=\"text-align: right;\">\n",
       "      <th>Material_type</th>\n",
       "      <th>Copper</th>\n",
       "      <th>PVC</th>\n",
       "      <th>Steel</th>\n",
       "    </tr>\n",
       "  </thead>\n",
       "  <tbody>\n",
       "    <tr>\n",
       "      <th>0319-7L14</th>\n",
       "      <td>0.000528</td>\n",
       "      <td>0.002836</td>\n",
       "      <td>0.000000</td>\n",
       "    </tr>\n",
       "    <tr>\n",
       "      <th>34P16</th>\n",
       "      <td>0.007041</td>\n",
       "      <td>0.007977</td>\n",
       "      <td>0.005826</td>\n",
       "    </tr>\n",
       "    <tr>\n",
       "      <th>AKIW781</th>\n",
       "      <td>0.000704</td>\n",
       "      <td>0.002836</td>\n",
       "      <td>0.001165</td>\n",
       "    </tr>\n",
       "    <tr>\n",
       "      <th>AKYG1722</th>\n",
       "      <td>0.000000</td>\n",
       "      <td>0.000709</td>\n",
       "      <td>0.000000</td>\n",
       "    </tr>\n",
       "    <tr>\n",
       "      <th>AKYG885</th>\n",
       "      <td>0.001232</td>\n",
       "      <td>0.000000</td>\n",
       "      <td>0.000000</td>\n",
       "    </tr>\n",
       "  </tbody>\n",
       "</table>\n",
       "</div>"
      ],
      "text/plain": [
       "Material_type    Copper       PVC     Steel\n",
       "0319-7L14      0.000528  0.002836  0.000000\n",
       "34P16          0.007041  0.007977  0.005826\n",
       "AKIW781        0.000704  0.002836  0.001165\n",
       "AKYG1722       0.000000  0.000709  0.000000\n",
       "AKYG885        0.001232  0.000000  0.000000"
      ]
     },
     "execution_count": 24,
     "metadata": {},
     "output_type": "execute_result"
    }
   ],
   "source": [
    "df = df / df.sum(axis=0) * 100\n",
    "df.head()"
   ]
  },
  {
   "cell_type": "code",
   "execution_count": 25,
   "metadata": {},
   "outputs": [],
   "source": [
    "df = df.drop('Unassigned', errors='ignore')"
   ]
  },
  {
   "cell_type": "code",
   "execution_count": 26,
   "metadata": {},
   "outputs": [
    {
     "data": {
      "text/html": [
       "<div>\n",
       "<style scoped>\n",
       "    .dataframe tbody tr th:only-of-type {\n",
       "        vertical-align: middle;\n",
       "    }\n",
       "\n",
       "    .dataframe tbody tr th {\n",
       "        vertical-align: top;\n",
       "    }\n",
       "\n",
       "    .dataframe thead th {\n",
       "        text-align: right;\n",
       "    }\n",
       "</style>\n",
       "<table border=\"1\" class=\"dataframe\">\n",
       "  <thead>\n",
       "    <tr style=\"text-align: right;\">\n",
       "      <th>Material_type</th>\n",
       "      <th>Copper</th>\n",
       "      <th>PVC</th>\n",
       "      <th>Steel</th>\n",
       "    </tr>\n",
       "  </thead>\n",
       "  <tbody>\n",
       "    <tr>\n",
       "      <th>Sphingomonadales</th>\n",
       "      <td>40.062313</td>\n",
       "      <td>47.238028</td>\n",
       "      <td>36.296197</td>\n",
       "    </tr>\n",
       "    <tr>\n",
       "      <th>Caulobacterales</th>\n",
       "      <td>5.007745</td>\n",
       "      <td>14.660909</td>\n",
       "      <td>4.702675</td>\n",
       "    </tr>\n",
       "    <tr>\n",
       "      <th>MLE1-12</th>\n",
       "      <td>7.065833</td>\n",
       "      <td>5.469523</td>\n",
       "      <td>4.607907</td>\n",
       "    </tr>\n",
       "    <tr>\n",
       "      <th>Burkholderiales</th>\n",
       "      <td>6.689667</td>\n",
       "      <td>3.438771</td>\n",
       "      <td>6.941960</td>\n",
       "    </tr>\n",
       "    <tr>\n",
       "      <th>Enterobacteriales</th>\n",
       "      <td>5.903714</td>\n",
       "      <td>4.149073</td>\n",
       "      <td>5.967868</td>\n",
       "    </tr>\n",
       "  </tbody>\n",
       "</table>\n",
       "</div>"
      ],
      "text/plain": [
       "Material_type         Copper        PVC      Steel\n",
       "Sphingomonadales   40.062313  47.238028  36.296197\n",
       "Caulobacterales     5.007745  14.660909   4.702675\n",
       "MLE1-12             7.065833   5.469523   4.607907\n",
       "Burkholderiales     6.689667   3.438771   6.941960\n",
       "Enterobacteriales   5.903714   4.149073   5.967868"
      ]
     },
     "execution_count": 26,
     "metadata": {},
     "output_type": "execute_result"
    }
   ],
   "source": [
    "df = df.loc[df.sum(axis=1).sort_values(ascending=False).index]\n",
    "df.head()"
   ]
  },
  {
   "cell_type": "code",
   "execution_count": 27,
   "metadata": {},
   "outputs": [],
   "source": [
    "n = 9\n"
   ]
  },
  {
   "cell_type": "code",
   "execution_count": 28,
   "metadata": {
    "scrolled": true
   },
   "outputs": [
    {
     "data": {
      "text/html": [
       "<div>\n",
       "<style scoped>\n",
       "    .dataframe tbody tr th:only-of-type {\n",
       "        vertical-align: middle;\n",
       "    }\n",
       "\n",
       "    .dataframe tbody tr th {\n",
       "        vertical-align: top;\n",
       "    }\n",
       "\n",
       "    .dataframe thead th {\n",
       "        text-align: right;\n",
       "    }\n",
       "</style>\n",
       "<table border=\"1\" class=\"dataframe\">\n",
       "  <thead>\n",
       "    <tr style=\"text-align: right;\">\n",
       "      <th>Material_type</th>\n",
       "      <th>Copper</th>\n",
       "      <th>PVC</th>\n",
       "      <th>Steel</th>\n",
       "    </tr>\n",
       "  </thead>\n",
       "  <tbody>\n",
       "    <tr>\n",
       "      <th>Sphingomonadales</th>\n",
       "      <td>40.062313</td>\n",
       "      <td>47.238028</td>\n",
       "      <td>36.296197</td>\n",
       "    </tr>\n",
       "    <tr>\n",
       "      <th>Caulobacterales</th>\n",
       "      <td>5.007745</td>\n",
       "      <td>14.660909</td>\n",
       "      <td>4.702675</td>\n",
       "    </tr>\n",
       "    <tr>\n",
       "      <th>MLE1-12</th>\n",
       "      <td>7.065833</td>\n",
       "      <td>5.469523</td>\n",
       "      <td>4.607907</td>\n",
       "    </tr>\n",
       "    <tr>\n",
       "      <th>Burkholderiales</th>\n",
       "      <td>6.689667</td>\n",
       "      <td>3.438771</td>\n",
       "      <td>6.941960</td>\n",
       "    </tr>\n",
       "    <tr>\n",
       "      <th>Enterobacteriales</th>\n",
       "      <td>5.903714</td>\n",
       "      <td>4.149073</td>\n",
       "      <td>5.967868</td>\n",
       "    </tr>\n",
       "    <tr>\n",
       "      <th>Legionellales</th>\n",
       "      <td>5.785073</td>\n",
       "      <td>2.074359</td>\n",
       "      <td>2.996460</td>\n",
       "    </tr>\n",
       "    <tr>\n",
       "      <th>[Saprospirales]</th>\n",
       "      <td>3.276184</td>\n",
       "      <td>2.566093</td>\n",
       "      <td>4.912213</td>\n",
       "    </tr>\n",
       "    <tr>\n",
       "      <th>Rhizobiales</th>\n",
       "      <td>2.854427</td>\n",
       "      <td>1.298469</td>\n",
       "      <td>5.897375</td>\n",
       "    </tr>\n",
       "    <tr>\n",
       "      <th>Rhodobacterales</th>\n",
       "      <td>4.107199</td>\n",
       "      <td>1.507642</td>\n",
       "      <td>3.160168</td>\n",
       "    </tr>\n",
       "  </tbody>\n",
       "</table>\n",
       "</div>"
      ],
      "text/plain": [
       "Material_type         Copper        PVC      Steel\n",
       "Sphingomonadales   40.062313  47.238028  36.296197\n",
       "Caulobacterales     5.007745  14.660909   4.702675\n",
       "MLE1-12             7.065833   5.469523   4.607907\n",
       "Burkholderiales     6.689667   3.438771   6.941960\n",
       "Enterobacteriales   5.903714   4.149073   5.967868\n",
       "Legionellales       5.785073   2.074359   2.996460\n",
       "[Saprospirales]     3.276184   2.566093   4.912213\n",
       "Rhizobiales         2.854427   1.298469   5.897375\n",
       "Rhodobacterales     4.107199   1.507642   3.160168"
      ]
     },
     "execution_count": 28,
     "metadata": {},
     "output_type": "execute_result"
    }
   ],
   "source": [
    "df = df.iloc[:n]\n",
    "df"
   ]
  },
  {
   "cell_type": "code",
   "execution_count": 29,
   "metadata": {},
   "outputs": [
    {
     "data": {
      "text/html": [
       "<div>\n",
       "<style scoped>\n",
       "    .dataframe tbody tr th:only-of-type {\n",
       "        vertical-align: middle;\n",
       "    }\n",
       "\n",
       "    .dataframe tbody tr th {\n",
       "        vertical-align: top;\n",
       "    }\n",
       "\n",
       "    .dataframe thead th {\n",
       "        text-align: right;\n",
       "    }\n",
       "</style>\n",
       "<table border=\"1\" class=\"dataframe\">\n",
       "  <thead>\n",
       "    <tr style=\"text-align: right;\">\n",
       "      <th>Material_type</th>\n",
       "      <th>Copper</th>\n",
       "      <th>PVC</th>\n",
       "      <th>Steel</th>\n",
       "    </tr>\n",
       "  </thead>\n",
       "  <tbody>\n",
       "    <tr>\n",
       "      <th>Sphingomonadales</th>\n",
       "      <td>40.062313</td>\n",
       "      <td>47.238028</td>\n",
       "      <td>36.296197</td>\n",
       "    </tr>\n",
       "    <tr>\n",
       "      <th>Caulobacterales</th>\n",
       "      <td>5.007745</td>\n",
       "      <td>14.660909</td>\n",
       "      <td>4.702675</td>\n",
       "    </tr>\n",
       "    <tr>\n",
       "      <th>MLE1-12</th>\n",
       "      <td>7.065833</td>\n",
       "      <td>5.469523</td>\n",
       "      <td>4.607907</td>\n",
       "    </tr>\n",
       "    <tr>\n",
       "      <th>Burkholderiales</th>\n",
       "      <td>6.689667</td>\n",
       "      <td>3.438771</td>\n",
       "      <td>6.941960</td>\n",
       "    </tr>\n",
       "    <tr>\n",
       "      <th>Enterobacteriales</th>\n",
       "      <td>5.903714</td>\n",
       "      <td>4.149073</td>\n",
       "      <td>5.967868</td>\n",
       "    </tr>\n",
       "    <tr>\n",
       "      <th>Legionellales</th>\n",
       "      <td>5.785073</td>\n",
       "      <td>2.074359</td>\n",
       "      <td>2.996460</td>\n",
       "    </tr>\n",
       "    <tr>\n",
       "      <th>[Saprospirales]</th>\n",
       "      <td>3.276184</td>\n",
       "      <td>2.566093</td>\n",
       "      <td>4.912213</td>\n",
       "    </tr>\n",
       "    <tr>\n",
       "      <th>Rhizobiales</th>\n",
       "      <td>2.854427</td>\n",
       "      <td>1.298469</td>\n",
       "      <td>5.897375</td>\n",
       "    </tr>\n",
       "    <tr>\n",
       "      <th>Rhodobacterales</th>\n",
       "      <td>4.107199</td>\n",
       "      <td>1.507642</td>\n",
       "      <td>3.160168</td>\n",
       "    </tr>\n",
       "    <tr>\n",
       "      <th>Others</th>\n",
       "      <td>19.247844</td>\n",
       "      <td>17.597133</td>\n",
       "      <td>24.517178</td>\n",
       "    </tr>\n",
       "  </tbody>\n",
       "</table>\n",
       "</div>"
      ],
      "text/plain": [
       "Material_type         Copper        PVC      Steel\n",
       "Sphingomonadales   40.062313  47.238028  36.296197\n",
       "Caulobacterales     5.007745  14.660909   4.702675\n",
       "MLE1-12             7.065833   5.469523   4.607907\n",
       "Burkholderiales     6.689667   3.438771   6.941960\n",
       "Enterobacteriales   5.903714   4.149073   5.967868\n",
       "Legionellales       5.785073   2.074359   2.996460\n",
       "[Saprospirales]     3.276184   2.566093   4.912213\n",
       "Rhizobiales         2.854427   1.298469   5.897375\n",
       "Rhodobacterales     4.107199   1.507642   3.160168\n",
       "Others             19.247844  17.597133  24.517178"
      ]
     },
     "execution_count": 29,
     "metadata": {},
     "output_type": "execute_result"
    }
   ],
   "source": [
    "others = 100 - df.sum(axis=0)\n",
    "others.name = 'Others'\n",
    "df = df.append(others)\n",
    "df"
   ]
  },
  {
   "cell_type": "code",
   "execution_count": 30,
   "metadata": {
    "scrolled": true
   },
   "outputs": [
    {
     "data": {
      "image/png": "[encoded data removed]",
      "text/plain": [
       "<Figure size 576x360 with 1 Axes>"
      ]
     },
     "metadata": {
      "needs_background": "light"
     },
     "output_type": "display_data"
    }
   ],
   "source": [
    "fig = plt.figure(figsize=(8, 5))\n",
    "bottom = np.zeros(df.shape[1])\n",
    "for taxon, datum in df.iterrows():\n",
    "    plt.bar(df.columns, datum.values, bottom=bottom, label=taxon)\n",
    "    bottom += datum\n",
    "plt.legend(title=rank.capitalize(), bbox_to_anchor=(1, 1), loc='upper left')\n",
    "plt.xlabel(field.replace('-', ' ').capitalize())\n",
    "plt.ylabel('Mean relative abundance (%)');"
   ]
  },
  {
   "cell_type": "code",
   "execution_count": 29,
   "metadata": {},
   "outputs": [
    {
     "data": {
      "image/png": "[encoded data removed]",
      "text/plain": [
       "<Figure size 1080x288 with 1 Axes>"
      ]
     },
     "execution_count": 29,
     "metadata": {},
     "output_type": "execute_result"
    }
   ],
   "source": [
    "fig"
   ]
  },
  {
   "cell_type": "markdown",
   "metadata": {},
   "source": [
    "## ANCOM"
   ]
  },
  {
   "cell_type": "code",
   "execution_count": 44,
   "metadata": {},
   "outputs": [
    {
     "name": "stdout",
     "output_type": "stream",
     "text": [
      "Saved FeatureTable[Frequency] to: collapsed-table.qza\n"
     ]
    }
   ],
   "source": [
    "%%bash\n",
    "qiime taxa collapse \\\n",
    "  --i-table 10251table.qza \\\n",
    "  --i-taxonomy taxonomy.qza \\\n",
    "  --p-level 3 \\\n",
    "  --o-collapsed-table collapsed-table.qza\n",
    "\n"
   ]
  },
  {
   "cell_type": "code",
   "execution_count": 45,
   "metadata": {},
   "outputs": [
    {
     "name": "stdout",
     "output_type": "stream",
     "text": [
      "Saved FeatureTable[Composition] to: comp-collapsed-table.qza\n"
     ]
    }
   ],
   "source": [
    "%%bash\n",
    "qiime composition add-pseudocount \\\n",
    "  --i-table collapsed-table.qza \\\n",
    "  --o-composition-table comp-collapsed-table.qza\n",
    "\n"
   ]
  },
  {
   "cell_type": "code",
   "execution_count": 46,
   "metadata": {},
   "outputs": [
    {
     "name": "stdout",
     "output_type": "stream",
     "text": [
      "Saved Visualization to: ancom-experiment_title.qzv\n"
     ]
    }
   ],
   "source": [
    "%%bash\n",
    "qiime composition ancom \\\n",
    "  --i-table comp-collapsed-table.qza \\\n",
    "  --m-metadata-file metadata.txt \\\n",
    "  --m-metadata-column experiment_title \\\n",
    "  --o-visualization ancom-experiment_title.qzv\n",
    "\n"
   ]
  },
  {
   "cell_type": "markdown",
   "metadata": {},
   "source": [
    "### Alpha and beta diversity analysis"
   ]
  },
  {
   "cell_type": "code",
   "execution_count": 66,
   "metadata": {
    "scrolled": false
   },
   "outputs": [
    {
     "name": "stdout",
     "output_type": "stream",
     "text": [
      "\u001b[32mSaved FeatureTable[Frequency] to: all_in_one/rarefied_table.qza\u001b[0m\n",
      "\u001b[32mSaved SampleData[AlphaDiversity] to: all_in_one/faith_pd_vector.qza\u001b[0m\n",
      "\u001b[32mSaved SampleData[AlphaDiversity] to: all_in_one/observed_features_vector.qza\u001b[0m\n",
      "\u001b[32mSaved SampleData[AlphaDiversity] to: all_in_one/shannon_vector.qza\u001b[0m\n",
      "\u001b[32mSaved SampleData[AlphaDiversity] to: all_in_one/evenness_vector.qza\u001b[0m\n",
      "\u001b[32mSaved DistanceMatrix to: all_in_one/unweighted_unifrac_distance_matrix.qza\u001b[0m\n",
      "\u001b[32mSaved DistanceMatrix to: all_in_one/weighted_unifrac_distance_matrix.qza\u001b[0m\n",
      "\u001b[32mSaved DistanceMatrix to: all_in_one/jaccard_distance_matrix.qza\u001b[0m\n",
      "\u001b[32mSaved DistanceMatrix to: all_in_one/bray_curtis_distance_matrix.qza\u001b[0m\n",
      "\u001b[32mSaved PCoAResults to: all_in_one/unweighted_unifrac_pcoa_results.qza\u001b[0m\n",
      "\u001b[32mSaved PCoAResults to: all_in_one/weighted_unifrac_pcoa_results.qza\u001b[0m\n",
      "\u001b[32mSaved PCoAResults to: all_in_one/jaccard_pcoa_results.qza\u001b[0m\n",
      "\u001b[32mSaved PCoAResults to: all_in_one/bray_curtis_pcoa_results.qza\u001b[0m\n",
      "\u001b[32mSaved Visualization to: all_in_one/unweighted_unifrac_emperor.qzv\u001b[0m\n",
      "\u001b[32mSaved Visualization to: all_in_one/weighted_unifrac_emperor.qzv\u001b[0m\n",
      "\u001b[32mSaved Visualization to: all_in_one/jaccard_emperor.qzv\u001b[0m\n",
      "\u001b[32mSaved Visualization to: all_in_one/bray_curtis_emperor.qzv\u001b[0m\n"
     ]
    }
   ],
   "source": [
    "!qiime diversity core-metrics-phylogenetic \\\n",
    "  --i-phylogeny 102511rooted-tree.qza \\\n",
    "  --i-table 10251table.qza \\\n",
    "  --p-sampling-depth 20102 \\\n",
    "  --m-metadata-file metadata.txt \\\n",
    "  --output-dir all_in_one"
   ]
  },
  {
   "cell_type": "markdown",
   "metadata": {},
   "source": [
    "## Alpha diversity\n"
   ]
  },
  {
   "cell_type": "code",
   "execution_count": 69,
   "metadata": {},
   "outputs": [
    {
     "name": "stdout",
     "output_type": "stream",
     "text": [
      "Saved SampleData[AlphaDiversity] to: observed_features_vector.qza\n",
      "Saved SampleData[AlphaDiversity] to: shannon_vector.qza\n",
      "Saved SampleData[AlphaDiversity] to: pielou_e_vector.qza\n"
     ]
    }
   ],
   "source": [
    "%%bash\n",
    "for metric in observed_features shannon pielou_e\n",
    "do\n",
    "  qiime diversity alpha \\\n",
    "    --i-table all_in_one/rarefied_table.qza \\\n",
    "    --p-metric $metric \\\n",
    "    --o-alpha-diversity ${metric}_vector.qza\n",
    "done"
   ]
  },
  {
   "cell_type": "markdown",
   "metadata": {},
   "source": [
    "## Faith Phylogenetic Diversity"
   ]
  },
  {
   "cell_type": "code",
   "execution_count": 70,
   "metadata": {},
   "outputs": [
    {
     "name": "stdout",
     "output_type": "stream",
     "text": [
      "\u001b[32mSaved Visualization to: all_in_one/faith-pd-group-significance.qzv\u001b[0m\r\n"
     ]
    }
   ],
   "source": [
    "!qiime diversity alpha-group-significance \\\n",
    "  --i-alpha-diversity all_in_one/faith_pd_vector.qza \\\n",
    "  --m-metadata-file metadata.txt \\\n",
    "  --o-visualization all_in_one/faith-pd-group-significance.qzv"
   ]
  },
  {
   "cell_type": "markdown",
   "metadata": {},
   "source": [
    "phylogeny-informed alpha diversity using the Faith's PD metric"
   ]
  },
  {
   "cell_type": "code",
   "execution_count": 75,
   "metadata": {},
   "outputs": [
    {
     "name": "stdout",
     "output_type": "stream",
     "text": [
      "\u001b[32mSaved SampleData[AlphaDiversity] to: faith_pd_vector.qza\u001b[0m\r\n"
     ]
    }
   ],
   "source": [
    "!qiime diversity alpha-phylogenetic \\\n",
    "  --i-table all_in_one/rarefied_table.qza \\\n",
    "  --i-phylogeny 102511rooted-tree.qza \\\n",
    "  --p-metric faith_pd \\\n",
    "  --o-alpha-diversity faith_pd_vector.qza"
   ]
  },
  {
   "cell_type": "markdown",
   "metadata": {},
   "source": [
    "#### Evenness metrics"
   ]
  },
  {
   "cell_type": "code",
   "execution_count": 72,
   "metadata": {
    "scrolled": true
   },
   "outputs": [
    {
     "name": "stdout",
     "output_type": "stream",
     "text": [
      "\u001b[32mSaved Visualization to: all_in_one/evenness-group-significance.qzv\u001b[0m\r\n"
     ]
    }
   ],
   "source": [
    "!qiime diversity alpha-group-significance \\\n",
    "  --i-alpha-diversity all_in_one/evenness_vector.qza \\\n",
    "  --m-metadata-file metadata.txt \\\n",
    "  --o-visualization all_in_one/evenness-group-significance.qzv"
   ]
  },
  {
   "cell_type": "markdown",
   "metadata": {},
   "source": [
    "### Beta Diversity using unweighted UniFrac distances for expermint title (Utilities from A to E )"
   ]
  },
  {
   "cell_type": "code",
   "execution_count": 73,
   "metadata": {},
   "outputs": [
    {
     "name": "stdout",
     "output_type": "stream",
     "text": [
      "\u001b[32mSaved Visualization to: all_in_one/unweighted-unifrac-expermint-title-significance.qzv\u001b[0m\r\n"
     ]
    }
   ],
   "source": [
    "!qiime diversity beta-group-significance   \\\n",
    "  --i-distance-matrix all_in_one/unweighted_unifrac_distance_matrix.qza   \\\n",
    "  --m-metadata-file metadata.txt   --m-metadata-column experiment_title   \\\n",
    "  --o-visualization all_in_one/unweighted-unifrac-expermint-title-significance.qzv   \\\n",
    "  --p-pairwise"
   ]
  },
  {
   "cell_type": "markdown",
   "metadata": {},
   "source": [
    "#### Alpha group significance"
   ]
  },
  {
   "cell_type": "code",
   "execution_count": 76,
   "metadata": {
    "scrolled": true
   },
   "outputs": [
    {
     "name": "stdout",
     "output_type": "stream",
     "text": [
      "Saved Visualization to: observed_features_group_significance.qzv\n",
      "Saved Visualization to: shannon_group_significance.qzv\n",
      "Saved Visualization to: pielou_e_group_significance.qzv\n",
      "Saved Visualization to: faith_pd_group_significance.qzv\n"
     ]
    }
   ],
   "source": [
    "%%bash\n",
    "for metric in observed_features shannon pielou_e faith_pd\n",
    "do\n",
    "  qiime diversity alpha-group-significance \\\n",
    "    --i-alpha-diversity ${metric}_vector.qza \\\n",
    "    --m-metadata-file metadata.txt \\\n",
    "    --o-visualization ${metric}_group_significance.qzv\n",
    "done"
   ]
  },
  {
   "cell_type": "code",
   "execution_count": 77,
   "metadata": {
    "scrolled": true
   },
   "outputs": [
    {
     "name": "stdout",
     "output_type": "stream",
     "text": [
      "Saved SampleData[AlphaDiversity] to: observed_features_vector.qza\n",
      "Saved SampleData[AlphaDiversity] to: shannon_vector.qza\n",
      "Saved SampleData[AlphaDiversity] to: pielou_e_vector.qza\n"
     ]
    }
   ],
   "source": [
    "%%bash\n",
    "for metric in observed_features shannon pielou_e\n",
    "do\n",
    "  qiime diversity alpha \\\n",
    "    --i-table all_in_one/rarefied_table.qza \\\n",
    "    --p-metric $metric \\\n",
    "    --o-alpha-diversity ${metric}_vector.qza\n",
    "done"
   ]
  },
  {
   "cell_type": "markdown",
   "metadata": {},
   "source": [
    "#### Alpha rarefaction plotting"
   ]
  },
  {
   "cell_type": "code",
   "execution_count": 80,
   "metadata": {},
   "outputs": [
    {
     "name": "stdout",
     "output_type": "stream",
     "text": [
      "\u001b[32mSaved Visualization to: alpha-rarefaction.qzv\u001b[0m\r\n"
     ]
    }
   ],
   "source": [
    "!qiime diversity alpha-rarefaction \\\n",
    "  --i-table 10251table.qza \\\n",
    "  --i-phylogeny 102511rooted-tree.qza \\\n",
    "  --p-max-depth 100000 \\\n",
    "  --m-metadata-file metadata.txt \\\n",
    "  --o-visualization alpha-rarefaction.qzv"
   ]
  },
  {
   "cell_type": "markdown",
   "metadata": {},
   "source": [
    "#### Beta Diversity"
   ]
  },
  {
   "cell_type": "code",
   "execution_count": 81,
   "metadata": {},
   "outputs": [
    {
     "name": "stdout",
     "output_type": "stream",
     "text": [
      "Saved DistanceMatrix to: jaccard_distance_matrix.qza\n",
      "Saved DistanceMatrix to: braycurtis_distance_matrix.qza\n"
     ]
    }
   ],
   "source": [
    "%%bash\n",
    "for metric in jaccard braycurtis\n",
    "do\n",
    "  qiime diversity beta \\\n",
    "    --i-table all_in_one/rarefied_table.qza \\\n",
    "    --p-metric $metric \\\n",
    "    --o-distance-matrix ${metric}_distance_matrix.qza\n",
    "done"
   ]
  },
  {
   "cell_type": "code",
   "execution_count": 82,
   "metadata": {},
   "outputs": [
    {
     "name": "stdout",
     "output_type": "stream",
     "text": [
      "Saved DistanceMatrix to: unweighted_unifrac_distance_matrix.qza\n",
      "Saved DistanceMatrix to: weighted_unifrac_distance_matrix.qza\n"
     ]
    }
   ],
   "source": [
    "%%bash\n",
    "for metric in unweighted_unifrac weighted_unifrac\n",
    "do\n",
    "  qiime diversity beta-phylogenetic \\\n",
    "    --i-table all_in_one/rarefied_table.qza \\\n",
    "    --i-phylogeny 102511rooted-tree.qza \\\n",
    "    --p-metric $metric \\\n",
    "    --o-distance-matrix ${metric}_distance_matrix.qza\n",
    "done"
   ]
  },
  {
   "cell_type": "markdown",
   "metadata": {},
   "source": [
    "#### PCoA"
   ]
  },
  {
   "cell_type": "code",
   "execution_count": 83,
   "metadata": {},
   "outputs": [
    {
     "name": "stdout",
     "output_type": "stream",
     "text": [
      "Saved PCoAResults to: jaccard_pcoa_results.qza\n",
      "Saved PCoAResults to: braycurtis_pcoa_results.qza\n",
      "Saved PCoAResults to: unweighted_unifrac_pcoa_results.qza\n",
      "Saved PCoAResults to: weighted_unifrac_pcoa_results.qza\n"
     ]
    }
   ],
   "source": [
    "%%bash\n",
    "for metric in jaccard braycurtis unweighted_unifrac weighted_unifrac\n",
    "do\n",
    "  qiime diversity pcoa \\\n",
    "    --i-distance-matrix ${metric}_distance_matrix.qza \\\n",
    "    --o-pcoa ${metric}_pcoa_results.qza\n",
    "done"
   ]
  },
  {
   "cell_type": "markdown",
   "metadata": {},
   "source": [
    "#### EMPeror"
   ]
  },
  {
   "cell_type": "code",
   "execution_count": 84,
   "metadata": {},
   "outputs": [
    {
     "name": "stdout",
     "output_type": "stream",
     "text": [
      "Saved Visualization to: jaccard_emperor.qzv\n",
      "Saved Visualization to: braycurtis_emperor.qzv\n",
      "Saved Visualization to: unweighted_unifrac_emperor.qzv\n",
      "Saved Visualization to: weighted_unifrac_emperor.qzv\n"
     ]
    }
   ],
   "source": [
    "%%bash\n",
    "for metric in jaccard braycurtis unweighted_unifrac weighted_unifrac\n",
    "do\n",
    "  qiime emperor plot \\\n",
    "    --i-pcoa ${metric}_pcoa_results.qza \\\n",
    "    --m-metadata-file metadata.txt \\\n",
    "    --o-visualization ${metric}_emperor.qzv\n",
    "done"
   ]
  },
  {
   "cell_type": "markdown",
   "metadata": {},
   "source": [
    "#### Time series"
   ]
  },
  {
   "cell_type": "code",
   "execution_count": null,
   "metadata": {},
   "outputs": [],
   "source": [
    "!qiime emperor plot \\\n",
    "  --i-pcoa unweighted_unifrac_pcoa_results.qza \\\n",
    "  --m-metadata-file metadata.txt \\\n",
    "  --p-custom-axes run_date \\\n",
    "  --o-visualization unweighted_unifrac_emperor_time.qzv"
   ]
  },
  {
   "cell_type": "markdown",
   "metadata": {},
   "source": [
    "Did not work in our stuy case\n",
    "\n"
   ]
  },
  {
   "cell_type": "markdown",
   "metadata": {},
   "source": [
    "#### Beta rarefaction\n"
   ]
  },
  {
   "cell_type": "code",
   "execution_count": 85,
   "metadata": {},
   "outputs": [
    {
     "name": "stdout",
     "output_type": "stream",
     "text": [
      "\u001b[32mSaved Visualization to: unweighted_unifrac_rarefaction.qzv\u001b[0m\r\n"
     ]
    }
   ],
   "source": [
    "!qiime diversity beta-rarefaction \\\n",
    "  --i-table 10251table.qza \\\n",
    "  --i-phylogeny 102511rooted-tree.qza\\\n",
    "  --p-metric unweighted_unifrac \\\n",
    "  --p-clustering-method nj \\\n",
    "  --p-sampling-depth 20102 \\\n",
    "  --m-metadata-file metadata.txt \\\n",
    "  --o-visualization unweighted_unifrac_rarefaction.qzv"
   ]
  },
  {
   "cell_type": "markdown",
   "metadata": {},
   "source": [
    "#### PCoA biplot"
   ]
  },
  {
   "cell_type": "code",
   "execution_count": 95,
   "metadata": {},
   "outputs": [
    {
     "name": "stdout",
     "output_type": "stream",
     "text": [
      "\u001b[32mSaved FeatureTable[RelativeFrequency] to: relative_table.qza\u001b[0m\r\n"
     ]
    }
   ],
   "source": [
    "!qiime feature-table relative-frequency \\\n",
    "  --i-table all_in_one/rarefied_table.qza \\\n",
    "  --o-relative-frequency-table relative_table.qza"
   ]
  },
  {
   "cell_type": "code",
   "execution_count": 96,
   "metadata": {},
   "outputs": [
    {
     "name": "stdout",
     "output_type": "stream",
     "text": [
      "\u001b[32mSaved PCoAResults % Properties('biplot') to: unweighted_unifrac_pcoa_biplot.qza\u001b[0m\r\n"
     ]
    }
   ],
   "source": [
    "!qiime diversity pcoa-biplot \\\n",
    "  --i-pcoa unweighted_unifrac_pcoa_results.qza \\\n",
    "  --i-features relative_table.qza \\\n",
    "  --o-biplot unweighted_unifrac_pcoa_biplot.qza"
   ]
  },
  {
   "cell_type": "code",
   "execution_count": 97,
   "metadata": {},
   "outputs": [
    {
     "name": "stdout",
     "output_type": "stream",
     "text": [
      "\u001b[32mSaved Visualization to: unweighted_unifrac_emperor_biplot.qzv\u001b[0m\r\n"
     ]
    }
   ],
   "source": [
    "!qiime emperor biplot \\\n",
    "  --i-biplot unweighted_unifrac_pcoa_biplot.qza \\\n",
    "  --m-sample-metadata-file metadata.txt \\\n",
    "  --m-feature-metadata-file taxonomy.qza \\\n",
    "  --o-visualization unweighted_unifrac_emperor_biplot.qzv"
   ]
  },
  {
   "cell_type": "markdown",
   "metadata": {},
   "source": [
    "#### Mantel test¶\n"
   ]
  },
  {
   "cell_type": "code",
   "execution_count": 98,
   "metadata": {},
   "outputs": [
    {
     "name": "stdout",
     "output_type": "stream",
     "text": [
      "\u001b[32mSaved Visualization to: bc_vs_wu_mantel.qzv\u001b[0m\r\n"
     ]
    }
   ],
   "source": [
    "!qiime diversity mantel \\\n",
    "  --i-dm1 braycurtis_distance_matrix.qza \\\n",
    "  --i-dm2 weighted_unifrac_distance_matrix.qza \\\n",
    "  --o-visualization bc_vs_wu_mantel.qzv"
   ]
  },
  {
   "cell_type": "markdown",
   "metadata": {},
   "source": [
    "#### Procrustes analysis¶\n"
   ]
  },
  {
   "cell_type": "code",
   "execution_count": 99,
   "metadata": {},
   "outputs": [
    {
     "name": "stdout",
     "output_type": "stream",
     "text": [
      "\u001b[32mSaved PCoAResults to: braycurtis_pcoa_transformed.qza\u001b[0m\r\n",
      "\u001b[32mSaved PCoAResults to: weighted_unifrac_pcoa_transformed.qza\u001b[0m\r\n"
     ]
    }
   ],
   "source": [
    "!qiime diversity procrustes-analysis \\\n",
    "  --i-reference braycurtis_pcoa_results.qza \\\n",
    "  --i-other weighted_unifrac_pcoa_results.qza \\\n",
    "  --o-transformed-reference braycurtis_pcoa_transformed.qza \\\n",
    "  --o-transformed-other weighted_unifrac_pcoa_transformed.qza"
   ]
  },
  {
   "cell_type": "code",
   "execution_count": 100,
   "metadata": {},
   "outputs": [
    {
     "name": "stdout",
     "output_type": "stream",
     "text": [
      "\u001b[32mSaved Visualization to: bc_vs_wu_procrustes.qzv\u001b[0m\r\n"
     ]
    }
   ],
   "source": [
    "!qiime emperor procrustes-plot \\\n",
    "  --i-reference-pcoa braycurtis_pcoa_transformed.qza \\\n",
    "  --i-other-pcoa weighted_unifrac_pcoa_transformed.qza \\\n",
    "  --m-metadata-file metadata.txt \\\n",
    "  --o-visualization bc_vs_wu_procrustes.qzv"
   ]
  },
  {
   "cell_type": "markdown",
   "metadata": {},
   "source": [
    "# Pairwise difference comparisons¶\n"
   ]
  },
  {
   "cell_type": "code",
   "execution_count": 101,
   "metadata": {},
   "outputs": [
    {
     "name": "stdout",
     "output_type": "stream",
     "text": [
      "\u001b[32mSaved DistanceMatrix to: nmit-dm.qza\u001b[0m\r\n"
     ]
    }
   ],
   "source": [
    "!qiime longitudinal nmit \\\n",
    "  --i-table relative_table.qza \\\n",
    "  --m-metadata-file metadata.tsv \\\n",
    "  --p-individual-id-column Expermint \\\n",
    "  --p-corr-method pearson \\\n",
    "  --o-distance-matrix nmit-dm.qza"
   ]
  },
  {
   "cell_type": "code",
   "execution_count": 102,
   "metadata": {},
   "outputs": [
    {
     "name": "stdout",
     "output_type": "stream",
     "text": [
      "\u001b[32mSaved PCoAResults to: nmit-pc.qza\u001b[0m\r\n"
     ]
    }
   ],
   "source": [
    "!qiime diversity pcoa \\\n",
    "  --i-distance-matrix nmit-dm.qza \\\n",
    "  --o-pcoa nmit-pc.qza"
   ]
  },
  {
   "cell_type": "code",
   "execution_count": 103,
   "metadata": {},
   "outputs": [
    {
     "name": "stdout",
     "output_type": "stream",
     "text": [
      "\u001b[32mSaved Visualization to: nmit-emperor.qzv\u001b[0m\r\n"
     ]
    }
   ],
   "source": [
    "!qiime emperor plot \\\n",
    "  --i-pcoa nmit-pc.qza \\\n",
    "  --m-metadata-file metadata.tsv \\\n",
    "  --o-visualization nmit-emperor.qzv"
   ]
  },
  {
   "cell_type": "code",
   "execution_count": 104,
   "metadata": {},
   "outputs": [
    {
     "name": "stdout",
     "output_type": "stream",
     "text": [
      "\u001b[32mSaved Visualization to: nmit.qzv\u001b[0m\r\n"
     ]
    }
   ],
   "source": [
    "!qiime diversity beta-group-significance \\\n",
    "  --i-distance-matrix nmit-dm.qza \\\n",
    "  --m-metadata-file metadata.tsv \\\n",
    "  --m-metadata-column temp\\\n",
    "  --o-visualization nmit.qzv"
   ]
  },
  {
   "cell_type": "markdown",
   "metadata": {},
   "source": [
    "#### Group significance"
   ]
  },
  {
   "cell_type": "code",
   "execution_count": 101,
   "metadata": {},
   "outputs": [
    {
     "name": "stdout",
     "output_type": "stream",
     "text": [
      "Saved Visualization to: unweighted_unifrac_body_site_anosim.qzv\n",
      "Saved Visualization to: unweighted_unifrac_body_site_permanova.qzv\n",
      "Saved Visualization to: unweighted_unifrac_body_site_permdisp.qzv\n"
     ]
    }
   ],
   "source": [
    "%%bash\n",
    "for test in anosim permanova permdisp\n",
    "do\n",
    "  qiime diversity beta-group-significance \\\n",
    "    --i-distance-matrix unweighted_unifrac_distance_matrix.qza \\\n",
    "    --m-metadata-file metadata.txt \\\n",
    "    --m-metadata-column \"experiment_title\" \\\n",
    "    --p-method $test \\\n",
    "    --o-visualization unweighted_unifrac_body_site_${test}.qzv\n",
    "done"
   ]
  },
  {
   "cell_type": "markdown",
   "metadata": {},
   "source": [
    "#### Adonis test"
   ]
  },
  {
   "cell_type": "code",
   "execution_count": 102,
   "metadata": {},
   "outputs": [],
   "source": [
    "!cat metadata.txt | tr -d '-' > metadata_rev.txt\n"
   ]
  },
  {
   "cell_type": "code",
   "execution_count": 181,
   "metadata": {},
   "outputs": [
    {
     "name": "stdout",
     "output_type": "stream",
     "text": [
      "\u001b[32mSaved Visualization to: unweighted_unifrac_body_site_adonis.qzv\u001b[0m\r\n"
     ]
    }
   ],
   "source": [
    "!qiime diversity adonis \\\n",
    "  --i-distance-matrix unweighted_unifrac_distance_matrix.qza \\\n",
    "  --m-metadata-file metadata_rev.txt \\\n",
    "  --p-formula \"utility\" \\\n",
    "  --o-visualization unweighted_unifrac_body_site_adonis.qzv"
   ]
  },
  {
   "cell_type": "markdown",
   "metadata": {},
   "source": [
    "### Extracting data from QIIME 2 results"
   ]
  },
  {
   "cell_type": "code",
   "execution_count": 11,
   "metadata": {},
   "outputs": [],
   "source": [
    "import pandas as pd"
   ]
  },
  {
   "cell_type": "code",
   "execution_count": 12,
   "metadata": {},
   "outputs": [],
   "source": [
    "from qiime2 import Metadata, Artifact"
   ]
  },
  {
   "cell_type": "code",
   "execution_count": 3,
   "metadata": {},
   "outputs": [],
   "source": [
    "metadata = Metadata.load('metadata.txt')\n",
    "table = Artifact.load('10251table.qza')\n",
    "tree = Artifact.load('102511rooted-tree.qza')\n",
    "taxonomy = Artifact.load('taxonomy.qza')\n"
   ]
  },
  {
   "cell_type": "markdown",
   "metadata": {},
   "source": [
    "## Supervised learning"
   ]
  },
  {
   "cell_type": "code",
   "execution_count": 31,
   "metadata": {},
   "outputs": [],
   "source": [
    "from qiime2.plugins.sample_classifier.pipelines import classify_samples"
   ]
  },
  {
   "cell_type": "code",
   "execution_count": 43,
   "metadata": {},
   "outputs": [],
   "source": [
    "%%capture --no-stdout\n",
    "model = classify_samples(table, metadata.get_column('Expermint'),\n",
    "                         optimize_feature_selection=True,\n",
    "                         parameter_tuning=True,\n",
    "                         estimator='RandomForestClassifier',\n",
    "                         n_estimators=30,\n",
    "                         random_state=42)"
   ]
  },
  {
   "cell_type": "code",
   "execution_count": 44,
   "metadata": {},
   "outputs": [],
   "source": [
    "import numpy as np\n",
    "import pandas as pd"
   ]
  },
  {
   "cell_type": "code",
   "execution_count": 45,
   "metadata": {},
   "outputs": [],
   "source": [
    "import matplotlib as mpl\n",
    "import matplotlib.pyplot as plt"
   ]
  },
  {
   "cell_type": "code",
   "execution_count": 46,
   "metadata": {},
   "outputs": [],
   "source": [
    "%matplotlib inline"
   ]
  },
  {
   "cell_type": "code",
   "execution_count": 47,
   "metadata": {},
   "outputs": [],
   "source": [
    "import warnings\n",
    "warnings.filterwarnings('ignore')"
   ]
  },
  {
   "cell_type": "code",
   "execution_count": 48,
   "metadata": {},
   "outputs": [],
   "source": [
    "mpl.rcParams.update(mpl.rcParamsDefault)"
   ]
  },
  {
   "cell_type": "code",
   "execution_count": 49,
   "metadata": {},
   "outputs": [
    {
     "data": {
      "text/plain": [
       "Results (name = value)\n",
       "-------------------------------------------------------------------------------------------------------------\n",
       "sample_estimator   = <artifact: SampleEstimator[Classifier] uuid: 1d9b758d-68e4-40c6-92b6-ee5bc4be8e02>\n",
       "feature_importance = <artifact: FeatureData[Importance] uuid: 125df8b8-e1e0-461c-b35b-9f404aa92572>\n",
       "predictions        = <artifact: SampleData[ClassifierPredictions] uuid: c4c765f2-8808-482e-8378-65a8ff582b49>\n",
       "model_summary      = <visualization: Visualization uuid: 55f3d752-fd55-4eaa-8672-ae8fc5b42661>\n",
       "accuracy_results   = <visualization: Visualization uuid: 0795cefb-da42-4850-a04f-29027c8938d0>\n",
       "probabilities      = <artifact: SampleData[Probabilities] uuid: 2066c896-2e68-4b87-bfe0-5669eb362911>\n",
       "heatmap            = <visualization: Visualization uuid: f454b003-1d09-4b80-8582-44c3257ac066>"
      ]
     },
     "execution_count": 49,
     "metadata": {},
     "output_type": "execute_result"
    }
   ],
   "source": [
    "model"
   ]
  },
  {
   "cell_type": "code",
   "execution_count": 50,
   "metadata": {},
   "outputs": [
    {
     "ename": "NameError",
     "evalue": "name 'Visualization' is not defined",
     "output_type": "error",
     "traceback": [
      "\u001b[0;31m---------------------------------------------------------------------------\u001b[0m",
      "\u001b[0;31mNameError\u001b[0m                                 Traceback (most recent call last)",
      "\u001b[0;32m<ipython-input-50-473e7185e1d3>\u001b[0m in \u001b[0;36m<module>\u001b[0;34m\u001b[0m\n\u001b[0;32m----> 1\u001b[0;31m \u001b[0mbarplot\u001b[0m\u001b[0;34m=\u001b[0m \u001b[0mVisualization\u001b[0m\u001b[0;34m.\u001b[0m\u001b[0mload\u001b[0m\u001b[0;34m(\u001b[0m\u001b[0;34m'barplot.qzv'\u001b[0m\u001b[0;34m)\u001b[0m\u001b[0;34m\u001b[0m\u001b[0;34m\u001b[0m\u001b[0m\n\u001b[0m",
      "\u001b[0;31mNameError\u001b[0m: name 'Visualization' is not defined"
     ]
    }
   ],
   "source": [
    "barplot= Visualization.load('barplot.qzv')"
   ]
  },
  {
   "cell_type": "markdown",
   "metadata": {},
   "source": [
    "## Prediction results"
   ]
  },
  {
   "cell_type": "code",
   "execution_count": 51,
   "metadata": {
    "scrolled": true
   },
   "outputs": [
    {
     "data": {
      "text/plain": [
       "id\n",
       "PT6_2      ST\n",
       "CT14_51    CT\n",
       "PT14_50    PT\n",
       "PT16_62    PT\n",
       "SC14_54    SC\n",
       "PC6_5      ST\n",
       "PC9_23     PC\n",
       "CC14_52    CC\n",
       "SC7_12     ST\n",
       "ST13_43    ST\n",
       "SC6_6      ST\n",
       "PC10_29    PC\n",
       "ST10_25    ST\n",
       "CC16_64    CC\n",
       "CT11_33    CT\n",
       "Name: prediction, dtype: object"
      ]
     },
     "execution_count": 51,
     "metadata": {},
     "output_type": "execute_result"
    }
   ],
   "source": [
    "model.predictions.view(pd.Series)"
   ]
  },
  {
   "cell_type": "code",
   "execution_count": 52,
   "metadata": {
    "scrolled": true
   },
   "outputs": [
    {
     "data": {
      "text/html": [
       "<div>\n",
       "<style scoped>\n",
       "    .dataframe tbody tr th:only-of-type {\n",
       "        vertical-align: middle;\n",
       "    }\n",
       "\n",
       "    .dataframe tbody tr th {\n",
       "        vertical-align: top;\n",
       "    }\n",
       "\n",
       "    .dataframe thead th {\n",
       "        text-align: right;\n",
       "    }\n",
       "</style>\n",
       "<table border=\"1\" class=\"dataframe\">\n",
       "  <thead>\n",
       "    <tr style=\"text-align: right;\">\n",
       "      <th></th>\n",
       "      <th>CC</th>\n",
       "      <th>CT</th>\n",
       "      <th>PC</th>\n",
       "      <th>PT</th>\n",
       "      <th>SC</th>\n",
       "      <th>ST</th>\n",
       "    </tr>\n",
       "    <tr>\n",
       "      <th>id</th>\n",
       "      <th></th>\n",
       "      <th></th>\n",
       "      <th></th>\n",
       "      <th></th>\n",
       "      <th></th>\n",
       "      <th></th>\n",
       "    </tr>\n",
       "  </thead>\n",
       "  <tbody>\n",
       "    <tr>\n",
       "      <th>PT6_2</th>\n",
       "      <td>0.197746</td>\n",
       "      <td>0.144838</td>\n",
       "      <td>0.025590</td>\n",
       "      <td>0.117758</td>\n",
       "      <td>0.036249</td>\n",
       "      <td>0.477819</td>\n",
       "    </tr>\n",
       "    <tr>\n",
       "      <th>CT14_51</th>\n",
       "      <td>0.083565</td>\n",
       "      <td>0.889352</td>\n",
       "      <td>0.000000</td>\n",
       "      <td>0.000000</td>\n",
       "      <td>0.000000</td>\n",
       "      <td>0.027083</td>\n",
       "    </tr>\n",
       "    <tr>\n",
       "      <th>PT14_50</th>\n",
       "      <td>0.120674</td>\n",
       "      <td>0.042754</td>\n",
       "      <td>0.017754</td>\n",
       "      <td>0.622138</td>\n",
       "      <td>0.012626</td>\n",
       "      <td>0.184053</td>\n",
       "    </tr>\n",
       "    <tr>\n",
       "      <th>PT16_62</th>\n",
       "      <td>0.017643</td>\n",
       "      <td>0.007906</td>\n",
       "      <td>0.016239</td>\n",
       "      <td>0.780926</td>\n",
       "      <td>0.011111</td>\n",
       "      <td>0.166174</td>\n",
       "    </tr>\n",
       "    <tr>\n",
       "      <th>SC14_54</th>\n",
       "      <td>0.050947</td>\n",
       "      <td>0.022644</td>\n",
       "      <td>0.196663</td>\n",
       "      <td>0.033842</td>\n",
       "      <td>0.653732</td>\n",
       "      <td>0.042171</td>\n",
       "    </tr>\n",
       "    <tr>\n",
       "      <th>PC6_5</th>\n",
       "      <td>0.257006</td>\n",
       "      <td>0.146690</td>\n",
       "      <td>0.027441</td>\n",
       "      <td>0.117758</td>\n",
       "      <td>0.039953</td>\n",
       "      <td>0.411152</td>\n",
       "    </tr>\n",
       "    <tr>\n",
       "      <th>PC9_23</th>\n",
       "      <td>0.004000</td>\n",
       "      <td>0.146911</td>\n",
       "      <td>0.533320</td>\n",
       "      <td>0.005333</td>\n",
       "      <td>0.293197</td>\n",
       "      <td>0.017238</td>\n",
       "    </tr>\n",
       "    <tr>\n",
       "      <th>CC14_52</th>\n",
       "      <td>0.676231</td>\n",
       "      <td>0.050171</td>\n",
       "      <td>0.054655</td>\n",
       "      <td>0.027847</td>\n",
       "      <td>0.060923</td>\n",
       "      <td>0.130174</td>\n",
       "    </tr>\n",
       "    <tr>\n",
       "      <th>SC7_12</th>\n",
       "      <td>0.186538</td>\n",
       "      <td>0.086787</td>\n",
       "      <td>0.119668</td>\n",
       "      <td>0.062639</td>\n",
       "      <td>0.255271</td>\n",
       "      <td>0.289098</td>\n",
       "    </tr>\n",
       "    <tr>\n",
       "      <th>ST13_43</th>\n",
       "      <td>0.123960</td>\n",
       "      <td>0.010825</td>\n",
       "      <td>0.042476</td>\n",
       "      <td>0.093138</td>\n",
       "      <td>0.057984</td>\n",
       "      <td>0.671616</td>\n",
       "    </tr>\n",
       "    <tr>\n",
       "      <th>SC6_6</th>\n",
       "      <td>0.257006</td>\n",
       "      <td>0.146690</td>\n",
       "      <td>0.027441</td>\n",
       "      <td>0.117758</td>\n",
       "      <td>0.039953</td>\n",
       "      <td>0.411152</td>\n",
       "    </tr>\n",
       "    <tr>\n",
       "      <th>PC10_29</th>\n",
       "      <td>0.004000</td>\n",
       "      <td>0.063578</td>\n",
       "      <td>0.634431</td>\n",
       "      <td>0.005333</td>\n",
       "      <td>0.275419</td>\n",
       "      <td>0.017238</td>\n",
       "    </tr>\n",
       "    <tr>\n",
       "      <th>ST10_25</th>\n",
       "      <td>0.322404</td>\n",
       "      <td>0.011191</td>\n",
       "      <td>0.018080</td>\n",
       "      <td>0.156698</td>\n",
       "      <td>0.093457</td>\n",
       "      <td>0.398169</td>\n",
       "    </tr>\n",
       "    <tr>\n",
       "      <th>CC16_64</th>\n",
       "      <td>0.666444</td>\n",
       "      <td>0.048091</td>\n",
       "      <td>0.173726</td>\n",
       "      <td>0.014731</td>\n",
       "      <td>0.013011</td>\n",
       "      <td>0.083998</td>\n",
       "    </tr>\n",
       "    <tr>\n",
       "      <th>CT11_33</th>\n",
       "      <td>0.131102</td>\n",
       "      <td>0.729665</td>\n",
       "      <td>0.006980</td>\n",
       "      <td>0.036996</td>\n",
       "      <td>0.003704</td>\n",
       "      <td>0.091552</td>\n",
       "    </tr>\n",
       "  </tbody>\n",
       "</table>\n",
       "</div>"
      ],
      "text/plain": [
       "               CC        CT        PC        PT        SC        ST\n",
       "id                                                                 \n",
       "PT6_2    0.197746  0.144838  0.025590  0.117758  0.036249  0.477819\n",
       "CT14_51  0.083565  0.889352  0.000000  0.000000  0.000000  0.027083\n",
       "PT14_50  0.120674  0.042754  0.017754  0.622138  0.012626  0.184053\n",
       "PT16_62  0.017643  0.007906  0.016239  0.780926  0.011111  0.166174\n",
       "SC14_54  0.050947  0.022644  0.196663  0.033842  0.653732  0.042171\n",
       "PC6_5    0.257006  0.146690  0.027441  0.117758  0.039953  0.411152\n",
       "PC9_23   0.004000  0.146911  0.533320  0.005333  0.293197  0.017238\n",
       "CC14_52  0.676231  0.050171  0.054655  0.027847  0.060923  0.130174\n",
       "SC7_12   0.186538  0.086787  0.119668  0.062639  0.255271  0.289098\n",
       "ST13_43  0.123960  0.010825  0.042476  0.093138  0.057984  0.671616\n",
       "SC6_6    0.257006  0.146690  0.027441  0.117758  0.039953  0.411152\n",
       "PC10_29  0.004000  0.063578  0.634431  0.005333  0.275419  0.017238\n",
       "ST10_25  0.322404  0.011191  0.018080  0.156698  0.093457  0.398169\n",
       "CC16_64  0.666444  0.048091  0.173726  0.014731  0.013011  0.083998\n",
       "CT11_33  0.131102  0.729665  0.006980  0.036996  0.003704  0.091552"
      ]
     },
     "execution_count": 52,
     "metadata": {},
     "output_type": "execute_result"
    }
   ],
   "source": [
    "model.probabilities.view(pd.DataFrame)"
   ]
  },
  {
   "cell_type": "code",
   "execution_count": 53,
   "metadata": {
    "scrolled": true
   },
   "outputs": [
    {
     "data": {
      "text/html": [
       "<div><img onload=\"(function(div, url){\n",
       "if (typeof require !== 'undefined') {\n",
       "    var baseURL = require.toUrl('').split('/').slice(0, -2).join('/');\n",
       "} else {\n",
       "    var baseURL = JSON.parse(\n",
       "        document.getElementById('jupyter-config-data').innerHTML\n",
       "    ).baseUrl.slice(0, -1);\n",
       "}\n",
       "url = baseURL + url;\n",
       "fetch(url).then(function(res) {\n",
       "    if (res.status === 404) {\n",
       "        div.innerHTML = 'Install QIIME 2 Jupyter extension with:<br />' +\n",
       "                        '<code>jupyter serverextension enable --py qiime2' +\n",
       "                        ' --sys-prefix</code><br />then restart your server.' +\n",
       "                        '<br /><br />(Interactive output not available on ' +\n",
       "                        'static notebook viewer services like nbviewer.)';\n",
       "    } else if (res.status === 409) {\n",
       "        div.innerHTML = 'Visualization no longer in scope. Re-run this cell' +\n",
       "                        ' to see the visualization.';\n",
       "    } else if (res.ok) {\n",
       "        url = res.url;\n",
       "        div.innerHTML = '<iframe src=\\'' + url + '\\' style=\\'' +\n",
       "                        'width: 100%; height: 700px; border: 0;\\'>' +\n",
       "                        '</iframe><hr />Open in a: <a href=\\'' + url + '\\'' +\n",
       "                        ' target=\\'_blank\\'>new window</a>'\n",
       "    } else {\n",
       "        div.innerHTML = 'Something has gone wrong. Check notebook server for' +\n",
       "                        ' errors.';\n",
       "    }\n",
       "});\n",
       "})(this.parentElement, '/qiime2/redirect?location=/var/folders/nb/_drlqg395x792y1_46fbz9lm0000gn/T/qiime2-archive-z5o3wj3j')\" src=\"data:image/gif;base64,R0lGODlhAQABAIAAAP///wAAACH5BAEAAAAALAAAAAABAAEAAAICRAEAOw==\" /></div>"
      ],
      "text/plain": [
       "<visualization: Visualization uuid: 0795cefb-da42-4850-a04f-29027c8938d0>"
      ]
     },
     "execution_count": 53,
     "metadata": {},
     "output_type": "execute_result"
    }
   ],
   "source": [
    "model.accuracy_results"
   ]
  },
  {
   "cell_type": "code",
   "execution_count": 54,
   "metadata": {},
   "outputs": [],
   "source": [
    "arcdir = model.accuracy_results._archiver.data_dir"
   ]
  },
  {
   "cell_type": "code",
   "execution_count": 55,
   "metadata": {},
   "outputs": [
    {
     "data": {
      "text/html": [
       "<div>\n",
       "<style scoped>\n",
       "    .dataframe tbody tr th:only-of-type {\n",
       "        vertical-align: middle;\n",
       "    }\n",
       "\n",
       "    .dataframe tbody tr th {\n",
       "        vertical-align: top;\n",
       "    }\n",
       "\n",
       "    .dataframe thead th {\n",
       "        text-align: right;\n",
       "    }\n",
       "</style>\n",
       "<table border=\"1\" class=\"dataframe\">\n",
       "  <thead>\n",
       "    <tr style=\"text-align: right;\">\n",
       "      <th></th>\n",
       "      <th>CC</th>\n",
       "      <th>CT</th>\n",
       "      <th>PC</th>\n",
       "      <th>PT</th>\n",
       "      <th>SC</th>\n",
       "      <th>ST</th>\n",
       "      <th>Overall Accuracy</th>\n",
       "    </tr>\n",
       "  </thead>\n",
       "  <tbody>\n",
       "    <tr>\n",
       "      <th>CC</th>\n",
       "      <td>1.0</td>\n",
       "      <td>0.0</td>\n",
       "      <td>0.000000</td>\n",
       "      <td>0.000000</td>\n",
       "      <td>0.000000</td>\n",
       "      <td>0.000000</td>\n",
       "      <td>NaN</td>\n",
       "    </tr>\n",
       "    <tr>\n",
       "      <th>CT</th>\n",
       "      <td>0.0</td>\n",
       "      <td>1.0</td>\n",
       "      <td>0.000000</td>\n",
       "      <td>0.000000</td>\n",
       "      <td>0.000000</td>\n",
       "      <td>0.000000</td>\n",
       "      <td>NaN</td>\n",
       "    </tr>\n",
       "    <tr>\n",
       "      <th>PC</th>\n",
       "      <td>0.0</td>\n",
       "      <td>0.0</td>\n",
       "      <td>0.666667</td>\n",
       "      <td>0.000000</td>\n",
       "      <td>0.000000</td>\n",
       "      <td>0.333333</td>\n",
       "      <td>NaN</td>\n",
       "    </tr>\n",
       "    <tr>\n",
       "      <th>PT</th>\n",
       "      <td>0.0</td>\n",
       "      <td>0.0</td>\n",
       "      <td>0.000000</td>\n",
       "      <td>0.666667</td>\n",
       "      <td>0.000000</td>\n",
       "      <td>0.333333</td>\n",
       "      <td>NaN</td>\n",
       "    </tr>\n",
       "    <tr>\n",
       "      <th>SC</th>\n",
       "      <td>0.0</td>\n",
       "      <td>0.0</td>\n",
       "      <td>0.000000</td>\n",
       "      <td>0.000000</td>\n",
       "      <td>0.333333</td>\n",
       "      <td>0.666667</td>\n",
       "      <td>NaN</td>\n",
       "    </tr>\n",
       "    <tr>\n",
       "      <th>ST</th>\n",
       "      <td>0.0</td>\n",
       "      <td>0.0</td>\n",
       "      <td>0.000000</td>\n",
       "      <td>0.000000</td>\n",
       "      <td>0.000000</td>\n",
       "      <td>1.000000</td>\n",
       "      <td>NaN</td>\n",
       "    </tr>\n",
       "    <tr>\n",
       "      <th>Overall Accuracy</th>\n",
       "      <td>NaN</td>\n",
       "      <td>NaN</td>\n",
       "      <td>NaN</td>\n",
       "      <td>NaN</td>\n",
       "      <td>NaN</td>\n",
       "      <td>NaN</td>\n",
       "      <td>0.733333</td>\n",
       "    </tr>\n",
       "    <tr>\n",
       "      <th>Baseline Accuracy</th>\n",
       "      <td>NaN</td>\n",
       "      <td>NaN</td>\n",
       "      <td>NaN</td>\n",
       "      <td>NaN</td>\n",
       "      <td>NaN</td>\n",
       "      <td>NaN</td>\n",
       "      <td>0.200000</td>\n",
       "    </tr>\n",
       "    <tr>\n",
       "      <th>Accuracy Ratio</th>\n",
       "      <td>NaN</td>\n",
       "      <td>NaN</td>\n",
       "      <td>NaN</td>\n",
       "      <td>NaN</td>\n",
       "      <td>NaN</td>\n",
       "      <td>NaN</td>\n",
       "      <td>3.666667</td>\n",
       "    </tr>\n",
       "  </tbody>\n",
       "</table>\n",
       "</div>"
      ],
      "text/plain": [
       "                    CC   CT        PC        PT        SC        ST  \\\n",
       "CC                 1.0  0.0  0.000000  0.000000  0.000000  0.000000   \n",
       "CT                 0.0  1.0  0.000000  0.000000  0.000000  0.000000   \n",
       "PC                 0.0  0.0  0.666667  0.000000  0.000000  0.333333   \n",
       "PT                 0.0  0.0  0.000000  0.666667  0.000000  0.333333   \n",
       "SC                 0.0  0.0  0.000000  0.000000  0.333333  0.666667   \n",
       "ST                 0.0  0.0  0.000000  0.000000  0.000000  1.000000   \n",
       "Overall Accuracy   NaN  NaN       NaN       NaN       NaN       NaN   \n",
       "Baseline Accuracy  NaN  NaN       NaN       NaN       NaN       NaN   \n",
       "Accuracy Ratio     NaN  NaN       NaN       NaN       NaN       NaN   \n",
       "\n",
       "                   Overall Accuracy  \n",
       "CC                              NaN  \n",
       "CT                              NaN  \n",
       "PC                              NaN  \n",
       "PT                              NaN  \n",
       "SC                              NaN  \n",
       "ST                              NaN  \n",
       "Overall Accuracy           0.733333  \n",
       "Baseline Accuracy          0.200000  \n",
       "Accuracy Ratio             3.666667  "
      ]
     },
     "execution_count": 55,
     "metadata": {},
     "output_type": "execute_result"
    }
   ],
   "source": [
    "df = pd.read_csv(f'{arcdir}/predictive_accuracy.tsv', sep='\\t', index_col=0)\n",
    "df"
   ]
  },
  {
   "cell_type": "code",
   "execution_count": 56,
   "metadata": {},
   "outputs": [
    {
     "data": {
      "text/html": [
       "<div>\n",
       "<style scoped>\n",
       "    .dataframe tbody tr th:only-of-type {\n",
       "        vertical-align: middle;\n",
       "    }\n",
       "\n",
       "    .dataframe tbody tr th {\n",
       "        vertical-align: top;\n",
       "    }\n",
       "\n",
       "    .dataframe thead th {\n",
       "        text-align: right;\n",
       "    }\n",
       "</style>\n",
       "<table border=\"1\" class=\"dataframe\">\n",
       "  <thead>\n",
       "    <tr style=\"text-align: right;\">\n",
       "      <th></th>\n",
       "      <th>CC</th>\n",
       "      <th>CT</th>\n",
       "      <th>PC</th>\n",
       "      <th>PT</th>\n",
       "      <th>SC</th>\n",
       "      <th>ST</th>\n",
       "    </tr>\n",
       "  </thead>\n",
       "  <tbody>\n",
       "    <tr>\n",
       "      <th>CC</th>\n",
       "      <td>1.0</td>\n",
       "      <td>0.0</td>\n",
       "      <td>0.000000</td>\n",
       "      <td>0.000000</td>\n",
       "      <td>0.000000</td>\n",
       "      <td>0.000000</td>\n",
       "    </tr>\n",
       "    <tr>\n",
       "      <th>CT</th>\n",
       "      <td>0.0</td>\n",
       "      <td>1.0</td>\n",
       "      <td>0.000000</td>\n",
       "      <td>0.000000</td>\n",
       "      <td>0.000000</td>\n",
       "      <td>0.000000</td>\n",
       "    </tr>\n",
       "    <tr>\n",
       "      <th>PC</th>\n",
       "      <td>0.0</td>\n",
       "      <td>0.0</td>\n",
       "      <td>0.666667</td>\n",
       "      <td>0.000000</td>\n",
       "      <td>0.000000</td>\n",
       "      <td>0.333333</td>\n",
       "    </tr>\n",
       "    <tr>\n",
       "      <th>PT</th>\n",
       "      <td>0.0</td>\n",
       "      <td>0.0</td>\n",
       "      <td>0.000000</td>\n",
       "      <td>0.666667</td>\n",
       "      <td>0.000000</td>\n",
       "      <td>0.333333</td>\n",
       "    </tr>\n",
       "    <tr>\n",
       "      <th>SC</th>\n",
       "      <td>0.0</td>\n",
       "      <td>0.0</td>\n",
       "      <td>0.000000</td>\n",
       "      <td>0.000000</td>\n",
       "      <td>0.333333</td>\n",
       "      <td>0.666667</td>\n",
       "    </tr>\n",
       "    <tr>\n",
       "      <th>ST</th>\n",
       "      <td>0.0</td>\n",
       "      <td>0.0</td>\n",
       "      <td>0.000000</td>\n",
       "      <td>0.000000</td>\n",
       "      <td>0.000000</td>\n",
       "      <td>1.000000</td>\n",
       "    </tr>\n",
       "  </tbody>\n",
       "</table>\n",
       "</div>"
      ],
      "text/plain": [
       "     CC   CT        PC        PT        SC        ST\n",
       "CC  1.0  0.0  0.000000  0.000000  0.000000  0.000000\n",
       "CT  0.0  1.0  0.000000  0.000000  0.000000  0.000000\n",
       "PC  0.0  0.0  0.666667  0.000000  0.000000  0.333333\n",
       "PT  0.0  0.0  0.000000  0.666667  0.000000  0.333333\n",
       "SC  0.0  0.0  0.000000  0.000000  0.333333  0.666667\n",
       "ST  0.0  0.0  0.000000  0.000000  0.000000  1.000000"
      ]
     },
     "execution_count": 56,
     "metadata": {},
     "output_type": "execute_result"
    }
   ],
   "source": [
    "confusion = df.iloc[:-3, :-1]\n",
    "confusion"
   ]
  },
  {
   "cell_type": "code",
   "execution_count": 57,
   "metadata": {},
   "outputs": [
    {
     "data": {
      "image/png": "[encoded data removed]",
      "text/plain": [
       "<Figure size 640x480 with 2 Axes>"
      ]
     },
     "metadata": {},
     "output_type": "display_data"
    }
   ],
   "source": [
    "fig = plt.figure()\n",
    "plt.imshow(confusion, cmap='Reds')\n",
    "plt.xticks(range(confusion.shape[1]), confusion.columns)\n",
    "plt.xlabel('Predicted')\n",
    "plt.yticks(range(confusion.shape[0]), confusion.index)\n",
    "plt.ylabel('Actual')\n",
    "plt.colorbar()\n",
    "plt.title('Confusion matrix');"
   ]
  },
  {
   "cell_type": "code",
   "execution_count": 58,
   "metadata": {},
   "outputs": [
    {
     "data": {
      "image/png": "[encoded data removed]",
      "text/plain": [
       "<Figure size 640x480 with 2 Axes>"
      ]
     },
     "execution_count": 58,
     "metadata": {},
     "output_type": "execute_result"
    }
   ],
   "source": [
    "fig "
   ]
  },
  {
   "cell_type": "code",
   "execution_count": 59,
   "metadata": {},
   "outputs": [],
   "source": [
    "from IPython.display import Image"
   ]
  },
  {
   "cell_type": "code",
   "execution_count": 60,
   "metadata": {
    "scrolled": true
   },
   "outputs": [
    {
     "data": {
      "image/png": "[encoded data removed]",
      "text/plain": [
       "<IPython.core.display.Image object>"
      ]
     },
     "execution_count": 60,
     "metadata": {},
     "output_type": "execute_result"
    }
   ],
   "source": [
    "Image(filename=f'{arcdir}/roc_plot.png')"
   ]
  },
  {
   "cell_type": "code",
   "execution_count": 61,
   "metadata": {},
   "outputs": [
    {
     "data": {
      "text/plain": [
       "id\n",
       "d8fa54e2c18f2ec142fa7d70443c3dec    0.039561\n",
       "337decf2cc8089ea60d4ab70c375c4a5    0.038218\n",
       "28546048a604dbd02766722d7b45bfc2    0.036093\n",
       "dc7529c287131ca7cc6e7a562171eaef    0.035760\n",
       "5b7d5a754d492ae07433eec21f5c10a1    0.035065\n",
       "                                      ...   \n",
       "171582add1b88f167f02d7fab09f6513    0.000000\n",
       "17280158d99c5c82ffef38f0a216279d    0.000000\n",
       "17316995cd3e0bf54dc25b7e499ba8a4    0.000000\n",
       "174441ce355848879907fad2171c14bd    0.000000\n",
       "ff5991cc8f158b430b72562562f441b5    0.000000\n",
       "Name: importance, Length: 292, dtype: float64"
      ]
     },
     "execution_count": 61,
     "metadata": {},
     "output_type": "execute_result"
    }
   ],
   "source": [
    "importance = model.feature_importance.view(pd.DataFrame).squeeze()\n",
    "importance"
   ]
  },
  {
   "cell_type": "code",
   "execution_count": 43,
   "metadata": {},
   "outputs": [
    {
     "data": {
      "text/html": [
       "<div>\n",
       "<style scoped>\n",
       "    .dataframe tbody tr th:only-of-type {\n",
       "        vertical-align: middle;\n",
       "    }\n",
       "\n",
       "    .dataframe tbody tr th {\n",
       "        vertical-align: top;\n",
       "    }\n",
       "\n",
       "    .dataframe thead th {\n",
       "        text-align: right;\n",
       "    }\n",
       "</style>\n",
       "<table border=\"1\" class=\"dataframe\">\n",
       "  <thead>\n",
       "    <tr style=\"text-align: right;\">\n",
       "      <th></th>\n",
       "      <th>Taxon</th>\n",
       "      <th>Confidence</th>\n",
       "    </tr>\n",
       "    <tr>\n",
       "      <th>Feature ID</th>\n",
       "      <th></th>\n",
       "      <th></th>\n",
       "    </tr>\n",
       "  </thead>\n",
       "  <tbody>\n",
       "    <tr>\n",
       "      <th>TACGGAGGGAGCTAGCGTTGTTCGGAATTACTGGGCGTAAAGCGCACGTAGGCGGCTTTTTAAGTCAGGGGTGAAATCCCGGGGCTCAACCCCGGAACTGCCCTTGAAACTGGGAAGCTAGAATCTTGGAGAGGCGAGTGGAATTCCGAG</th>\n",
       "      <td>k__Bacteria; p__Proteobacteria; c__Alphaproteobacteria; o__Sphingomonadales; f__Erythrobacteraceae; g__Erythromicrobium</td>\n",
       "      <td>0.9256492441502662</td>\n",
       "    </tr>\n",
       "    <tr>\n",
       "      <th>TACGAAGGGGGCTAGCGTTGTTCGGAATCACTGGGCGTAAAGCGCACGTAGGCGGATTTGTTAGTCAGGGGTGAAATCCCGGGGCTCAACCTCGGAACTGCCTCTGATACTGCAGATCTCGAGTCCGATAGAGGTGAGTGGAATTCCTAG</th>\n",
       "      <td>k__Bacteria; p__Proteobacteria; c__Alphaproteobacteria; o__Rhizobiales; f__Hyphomicrobiaceae; g__Hyphomicrobium; s__</td>\n",
       "      <td>0.8832932950893545</td>\n",
       "    </tr>\n",
       "    <tr>\n",
       "      <th>TACGGAGGGAGCTAGCGTTGTTCGGAATTACTGGGCGTAAAGCGCACGTAGGCGGCTTTGTAAGTTAGAGGTGAAAGCCTGGAGCTCAACTCCAGAATTGCCTTTAAGACTGCATCGCTTGAATCCAGGAGAGGTGAGTGGAATTCCGAG</th>\n",
       "      <td>k__Bacteria; p__Proteobacteria; c__Alphaproteobacteria; o__Sphingomonadales; f__Sphingomonadaceae; g__Sphingomonas</td>\n",
       "      <td>0.9779050988587741</td>\n",
       "    </tr>\n",
       "    <tr>\n",
       "      <th>TACGAAGGGGGCTAGCGTTGTTCGGAATTACTGGGCGTAAAGCGAGCGTAGGTTGCTCGATAAGTCAGTGGTGAAAGCCCAGAGCTCAACTCTGGAACTGCCATTGAAACTGTCGAGCTGGAATCTCAGAGGGGGTAGCGGAATTCCAAA</th>\n",
       "      <td>k__Bacteria; p__Proteobacteria; c__Alphaproteobacteria; o__; f__; g__; s__</td>\n",
       "      <td>0.9737465963049655</td>\n",
       "    </tr>\n",
       "    <tr>\n",
       "      <th>TACGAAGGGGACTAGCGTTGTTCGGAATCACTGGGCGTAAAGCGCACGTAGGCGGATTTGTTAGTCGGGGGTGAAATCCCGGGGCTCAACCTCGGAACTGCCTTTGATACTGCAAGTCTCGAGTCCGATAGAGGTGGGTGGAATTCCTAG</th>\n",
       "      <td>k__Bacteria; p__Proteobacteria; c__Alphaproteobacteria; o__Rhizobiales; f__Hyphomicrobiaceae; g__Hyphomicrobium; s__</td>\n",
       "      <td>0.991021806616787</td>\n",
       "    </tr>\n",
       "  </tbody>\n",
       "</table>\n",
       "</div>"
      ],
      "text/plain": [
       "                                                                                                                                                                                                                                                                          Taxon  \\\n",
       "Feature ID                                                                                                                                                                                                                                                                        \n",
       "TACGGAGGGAGCTAGCGTTGTTCGGAATTACTGGGCGTAAAGCGCACGTAGGCGGCTTTTTAAGTCAGGGGTGAAATCCCGGGGCTCAACCCCGGAACTGCCCTTGAAACTGGGAAGCTAGAATCTTGGAGAGGCGAGTGGAATTCCGAG  k__Bacteria; p__Proteobacteria; c__Alphaproteobacteria; o__Sphingomonadales; f__Erythrobacteraceae; g__Erythromicrobium   \n",
       "TACGAAGGGGGCTAGCGTTGTTCGGAATCACTGGGCGTAAAGCGCACGTAGGCGGATTTGTTAGTCAGGGGTGAAATCCCGGGGCTCAACCTCGGAACTGCCTCTGATACTGCAGATCTCGAGTCCGATAGAGGTGAGTGGAATTCCTAG     k__Bacteria; p__Proteobacteria; c__Alphaproteobacteria; o__Rhizobiales; f__Hyphomicrobiaceae; g__Hyphomicrobium; s__   \n",
       "TACGGAGGGAGCTAGCGTTGTTCGGAATTACTGGGCGTAAAGCGCACGTAGGCGGCTTTGTAAGTTAGAGGTGAAAGCCTGGAGCTCAACTCCAGAATTGCCTTTAAGACTGCATCGCTTGAATCCAGGAGAGGTGAGTGGAATTCCGAG       k__Bacteria; p__Proteobacteria; c__Alphaproteobacteria; o__Sphingomonadales; f__Sphingomonadaceae; g__Sphingomonas   \n",
       "TACGAAGGGGGCTAGCGTTGTTCGGAATTACTGGGCGTAAAGCGAGCGTAGGTTGCTCGATAAGTCAGTGGTGAAAGCCCAGAGCTCAACTCTGGAACTGCCATTGAAACTGTCGAGCTGGAATCTCAGAGGGGGTAGCGGAATTCCAAA                                               k__Bacteria; p__Proteobacteria; c__Alphaproteobacteria; o__; f__; g__; s__   \n",
       "TACGAAGGGGACTAGCGTTGTTCGGAATCACTGGGCGTAAAGCGCACGTAGGCGGATTTGTTAGTCGGGGGTGAAATCCCGGGGCTCAACCTCGGAACTGCCTTTGATACTGCAAGTCTCGAGTCCGATAGAGGTGGGTGGAATTCCTAG     k__Bacteria; p__Proteobacteria; c__Alphaproteobacteria; o__Rhizobiales; f__Hyphomicrobiaceae; g__Hyphomicrobium; s__   \n",
       "\n",
       "                                                                                                                                                                Confidence  \n",
       "Feature ID                                                                                                                                                                  \n",
       "TACGGAGGGAGCTAGCGTTGTTCGGAATTACTGGGCGTAAAGCGCACGTAGGCGGCTTTTTAAGTCAGGGGTGAAATCCCGGGGCTCAACCCCGGAACTGCCCTTGAAACTGGGAAGCTAGAATCTTGGAGAGGCGAGTGGAATTCCGAG  0.9256492441502662  \n",
       "TACGAAGGGGGCTAGCGTTGTTCGGAATCACTGGGCGTAAAGCGCACGTAGGCGGATTTGTTAGTCAGGGGTGAAATCCCGGGGCTCAACCTCGGAACTGCCTCTGATACTGCAGATCTCGAGTCCGATAGAGGTGAGTGGAATTCCTAG  0.8832932950893545  \n",
       "TACGGAGGGAGCTAGCGTTGTTCGGAATTACTGGGCGTAAAGCGCACGTAGGCGGCTTTGTAAGTTAGAGGTGAAAGCCTGGAGCTCAACTCCAGAATTGCCTTTAAGACTGCATCGCTTGAATCCAGGAGAGGTGAGTGGAATTCCGAG  0.9779050988587741  \n",
       "TACGAAGGGGGCTAGCGTTGTTCGGAATTACTGGGCGTAAAGCGAGCGTAGGTTGCTCGATAAGTCAGTGGTGAAAGCCCAGAGCTCAACTCTGGAACTGCCATTGAAACTGTCGAGCTGGAATCTCAGAGGGGGTAGCGGAATTCCAAA  0.9737465963049655  \n",
       "TACGAAGGGGACTAGCGTTGTTCGGAATCACTGGGCGTAAAGCGCACGTAGGCGGATTTGTTAGTCGGGGGTGAAATCCCGGGGCTCAACCTCGGAACTGCCTTTGATACTGCAAGTCTCGAGTCCGATAGAGGTGGGTGGAATTCCTAG   0.991021806616787  "
      ]
     },
     "execution_count": 43,
     "metadata": {},
     "output_type": "execute_result"
    }
   ],
   "source": [
    "taxa = taxonomy.view(pd.DataFrame)\n",
    "taxa.head()"
   ]
  },
  {
   "cell_type": "code",
   "execution_count": 63,
   "metadata": {},
   "outputs": [
    {
     "ename": "NameError",
     "evalue": "name 'taxa' is not defined",
     "output_type": "error",
     "traceback": [
      "\u001b[0;31m---------------------------------------------------------------------------\u001b[0m",
      "\u001b[0;31mNameError\u001b[0m                                 Traceback (most recent call last)",
      "\u001b[0;32m<ipython-input-63-9e850f980693>\u001b[0m in \u001b[0;36m<module>\u001b[0;34m\u001b[0m\n\u001b[0;32m----> 1\u001b[0;31m \u001b[0mtaxa\u001b[0m\u001b[0;34m.\u001b[0m\u001b[0mloc\u001b[0m\u001b[0;34m[\u001b[0m\u001b[0;34m'TACGGAGGGAGCTAGCGTTGTTCGGAATTACTGGGCGTAAAGCGCACGTAGGCGGCTTTTTAAGTCAGGGGTGAAATCCCGGGGCTCAACCCCGGAACTGCCCTTGAAACTGGGAAGCTAGAATCTTGGAGAGGCGAGTGGAATTCCGAG'\u001b[0m\u001b[0;34m]\u001b[0m\u001b[0;34m\u001b[0m\u001b[0;34m\u001b[0m\u001b[0m\n\u001b[0m",
      "\u001b[0;31mNameError\u001b[0m: name 'taxa' is not defined"
     ]
    }
   ],
   "source": [
    "taxa.loc['TACGGAGGGAGCTAGCGTTGTTCGGAATTACTGGGCGTAAAGCGCACGTAGGCGGCTTTTTAAGTCAGGGGTGAAATCCCGGGGCTCAACCCCGGAACTGCCCTTGAAACTGGGAAGCTAGAATCTTGGAGAGGCGAGTGGAATTCCGAG']"
   ]
  },
  {
   "cell_type": "code",
   "execution_count": 64,
   "metadata": {
    "scrolled": true
   },
   "outputs": [
    {
     "data": {
      "text/html": [
       "<div><img onload=\"(function(div, url){\n",
       "if (typeof require !== 'undefined') {\n",
       "    var baseURL = require.toUrl('').split('/').slice(0, -2).join('/');\n",
       "} else {\n",
       "    var baseURL = JSON.parse(\n",
       "        document.getElementById('jupyter-config-data').innerHTML\n",
       "    ).baseUrl.slice(0, -1);\n",
       "}\n",
       "url = baseURL + url;\n",
       "fetch(url).then(function(res) {\n",
       "    if (res.status === 404) {\n",
       "        div.innerHTML = 'Install QIIME 2 Jupyter extension with:<br />' +\n",
       "                        '<code>jupyter serverextension enable --py qiime2' +\n",
       "                        ' --sys-prefix</code><br />then restart your server.' +\n",
       "                        '<br /><br />(Interactive output not available on ' +\n",
       "                        'static notebook viewer services like nbviewer.)';\n",
       "    } else if (res.status === 409) {\n",
       "        div.innerHTML = 'Visualization no longer in scope. Re-run this cell' +\n",
       "                        ' to see the visualization.';\n",
       "    } else if (res.ok) {\n",
       "        url = res.url;\n",
       "        div.innerHTML = '<iframe src=\\'' + url + '\\' style=\\'' +\n",
       "                        'width: 100%; height: 700px; border: 0;\\'>' +\n",
       "                        '</iframe><hr />Open in a: <a href=\\'' + url + '\\'' +\n",
       "                        ' target=\\'_blank\\'>new window</a>'\n",
       "    } else {\n",
       "        div.innerHTML = 'Something has gone wrong. Check notebook server for' +\n",
       "                        ' errors.';\n",
       "    }\n",
       "});\n",
       "})(this.parentElement, '/qiime2/redirect?location=/var/folders/nb/_drlqg395x792y1_46fbz9lm0000gn/T/qiime2-archive-gno51baq')\" src=\"data:image/gif;base64,R0lGODlhAQABAIAAAP///wAAACH5BAEAAAAALAAAAAABAAEAAAICRAEAOw==\" /></div>"
      ],
      "text/plain": [
       "<visualization: Visualization uuid: f454b003-1d09-4b80-8582-44c3257ac066>"
      ]
     },
     "execution_count": 64,
     "metadata": {},
     "output_type": "execute_result"
    }
   ],
   "source": [
    "model.heatmap"
   ]
  },
  {
   "cell_type": "code",
   "execution_count": 65,
   "metadata": {},
   "outputs": [
    {
     "data": {
      "text/html": [
       "<div><img onload=\"(function(div, url){\n",
       "if (typeof require !== 'undefined') {\n",
       "    var baseURL = require.toUrl('').split('/').slice(0, -2).join('/');\n",
       "} else {\n",
       "    var baseURL = JSON.parse(\n",
       "        document.getElementById('jupyter-config-data').innerHTML\n",
       "    ).baseUrl.slice(0, -1);\n",
       "}\n",
       "url = baseURL + url;\n",
       "fetch(url).then(function(res) {\n",
       "    if (res.status === 404) {\n",
       "        div.innerHTML = 'Install QIIME 2 Jupyter extension with:<br />' +\n",
       "                        '<code>jupyter serverextension enable --py qiime2' +\n",
       "                        ' --sys-prefix</code><br />then restart your server.' +\n",
       "                        '<br /><br />(Interactive output not available on ' +\n",
       "                        'static notebook viewer services like nbviewer.)';\n",
       "    } else if (res.status === 409) {\n",
       "        div.innerHTML = 'Visualization no longer in scope. Re-run this cell' +\n",
       "                        ' to see the visualization.';\n",
       "    } else if (res.ok) {\n",
       "        url = res.url;\n",
       "        div.innerHTML = '<iframe src=\\'' + url + '\\' style=\\'' +\n",
       "                        'width: 100%; height: 700px; border: 0;\\'>' +\n",
       "                        '</iframe><hr />Open in a: <a href=\\'' + url + '\\'' +\n",
       "                        ' target=\\'_blank\\'>new window</a>'\n",
       "    } else {\n",
       "        div.innerHTML = 'Something has gone wrong. Check notebook server for' +\n",
       "                        ' errors.';\n",
       "    }\n",
       "});\n",
       "})(this.parentElement, '/qiime2/redirect?location=/var/folders/nb/_drlqg395x792y1_46fbz9lm0000gn/T/qiime2-archive-3up9xm_e')\" src=\"data:image/gif;base64,R0lGODlhAQABAIAAAP///wAAACH5BAEAAAAALAAAAAABAAEAAAICRAEAOw==\" /></div>"
      ],
      "text/plain": [
       "<visualization: Visualization uuid: 55f3d752-fd55-4eaa-8672-ae8fc5b42661>"
      ]
     },
     "execution_count": 65,
     "metadata": {},
     "output_type": "execute_result"
    }
   ],
   "source": [
    "model.model_summary"
   ]
  },
  {
   "cell_type": "markdown",
   "metadata": {},
   "source": [
    "## visualization"
   ]
  },
  {
   "cell_type": "code",
   "execution_count": 66,
   "metadata": {},
   "outputs": [],
   "source": [
    "from qiime2 import Visualization\n"
   ]
  },
  {
   "cell_type": "code",
   "execution_count": 93,
   "metadata": {},
   "outputs": [],
   "source": [
    "table_qzv = Visualization.load('table.qzv')"
   ]
  },
  {
   "cell_type": "code",
   "execution_count": 94,
   "metadata": {},
   "outputs": [
    {
     "data": {
      "text/html": [
       "<div><img onload=\"(function(div, url){\n",
       "if (typeof require !== 'undefined') {\n",
       "    var baseURL = require.toUrl('').split('/').slice(0, -2).join('/');\n",
       "} else {\n",
       "    var baseURL = JSON.parse(\n",
       "        document.getElementById('jupyter-config-data').innerHTML\n",
       "    ).baseUrl.slice(0, -1);\n",
       "}\n",
       "url = baseURL + url;\n",
       "fetch(url).then(function(res) {\n",
       "    if (res.status === 404) {\n",
       "        div.innerHTML = 'Install QIIME 2 Jupyter extension with:<br />' +\n",
       "                        '<code>jupyter serverextension enable --py qiime2' +\n",
       "                        ' --sys-prefix</code><br />then restart your server.' +\n",
       "                        '<br /><br />(Interactive output not available on ' +\n",
       "                        'static notebook viewer services like nbviewer.)';\n",
       "    } else if (res.status === 409) {\n",
       "        div.innerHTML = 'Visualization no longer in scope. Re-run this cell' +\n",
       "                        ' to see the visualization.';\n",
       "    } else if (res.ok) {\n",
       "        url = res.url;\n",
       "        div.innerHTML = '<iframe src=\\'' + url + '\\' style=\\'' +\n",
       "                        'width: 100%; height: 700px; border: 0;\\'>' +\n",
       "                        '</iframe><hr />Open in a: <a href=\\'' + url + '\\'' +\n",
       "                        ' target=\\'_blank\\'>new window</a>'\n",
       "    } else {\n",
       "        div.innerHTML = 'Something has gone wrong. Check notebook server for' +\n",
       "                        ' errors.';\n",
       "    }\n",
       "});\n",
       "})(this.parentElement, '/qiime2/redirect?location=/var/folders/nb/_drlqg395x792y1_46fbz9lm0000gn/T/qiime2-archive-y5kvm1yk')\" src=\"data:image/gif;base64,R0lGODlhAQABAIAAAP///wAAACH5BAEAAAAALAAAAAABAAEAAAICRAEAOw==\" /></div>"
      ],
      "text/plain": [
       "<visualization: Visualization uuid: 1d16611e-af08-4612-9646-aebbf84954a7>"
      ]
     },
     "execution_count": 94,
     "metadata": {},
     "output_type": "execute_result"
    }
   ],
   "source": [
    "table_qzv"
   ]
  },
  {
   "cell_type": "code",
   "execution_count": 67,
   "metadata": {},
   "outputs": [],
   "source": [
    "barplot = Visualization.load('barplot.qzv')"
   ]
  },
  {
   "cell_type": "code",
   "execution_count": 68,
   "metadata": {
    "scrolled": true
   },
   "outputs": [
    {
     "data": {
      "text/html": [
       "<div><img onload=\"(function(div, url){\n",
       "if (typeof require !== 'undefined') {\n",
       "    var baseURL = require.toUrl('').split('/').slice(0, -2).join('/');\n",
       "} else {\n",
       "    var baseURL = JSON.parse(\n",
       "        document.getElementById('jupyter-config-data').innerHTML\n",
       "    ).baseUrl.slice(0, -1);\n",
       "}\n",
       "url = baseURL + url;\n",
       "fetch(url).then(function(res) {\n",
       "    if (res.status === 404) {\n",
       "        div.innerHTML = 'Install QIIME 2 Jupyter extension with:<br />' +\n",
       "                        '<code>jupyter serverextension enable --py qiime2' +\n",
       "                        ' --sys-prefix</code><br />then restart your server.' +\n",
       "                        '<br /><br />(Interactive output not available on ' +\n",
       "                        'static notebook viewer services like nbviewer.)';\n",
       "    } else if (res.status === 409) {\n",
       "        div.innerHTML = 'Visualization no longer in scope. Re-run this cell' +\n",
       "                        ' to see the visualization.';\n",
       "    } else if (res.ok) {\n",
       "        url = res.url;\n",
       "        div.innerHTML = '<iframe src=\\'' + url + '\\' style=\\'' +\n",
       "                        'width: 100%; height: 700px; border: 0;\\'>' +\n",
       "                        '</iframe><hr />Open in a: <a href=\\'' + url + '\\'' +\n",
       "                        ' target=\\'_blank\\'>new window</a>'\n",
       "    } else {\n",
       "        div.innerHTML = 'Something has gone wrong. Check notebook server for' +\n",
       "                        ' errors.';\n",
       "    }\n",
       "});\n",
       "})(this.parentElement, '/qiime2/redirect?location=/var/folders/nb/_drlqg395x792y1_46fbz9lm0000gn/T/qiime2-archive-qe7rlg67')\" src=\"data:image/gif;base64,R0lGODlhAQABAIAAAP///wAAACH5BAEAAAAALAAAAAABAAEAAAICRAEAOw==\" /></div>"
      ],
      "text/plain": [
       "<visualization: Visualization uuid: 3fb6df9c-466f-4d62-a3c9-fae367bd0061>"
      ]
     },
     "execution_count": 68,
     "metadata": {},
     "output_type": "execute_result"
    }
   ],
   "source": [
    "barplot"
   ]
  },
  {
   "cell_type": "code",
   "execution_count": null,
   "metadata": {},
   "outputs": [],
   "source": [
    "repseq = Visualization.load('10251rep-seqs.qzv')"
   ]
  },
  {
   "cell_type": "markdown",
   "metadata": {},
   "source": [
    "#### Faith Phylogenetic Diversity"
   ]
  },
  {
   "cell_type": "code",
   "execution_count": 69,
   "metadata": {},
   "outputs": [],
   "source": [
    "faith_pd_group_significance = Visualization.load('all_in_one/faith-pd-group-significance.qzv')"
   ]
  },
  {
   "cell_type": "code",
   "execution_count": 70,
   "metadata": {},
   "outputs": [
    {
     "data": {
      "text/html": [
       "<div><img onload=\"(function(div, url){\n",
       "if (typeof require !== 'undefined') {\n",
       "    var baseURL = require.toUrl('').split('/').slice(0, -2).join('/');\n",
       "} else {\n",
       "    var baseURL = JSON.parse(\n",
       "        document.getElementById('jupyter-config-data').innerHTML\n",
       "    ).baseUrl.slice(0, -1);\n",
       "}\n",
       "url = baseURL + url;\n",
       "fetch(url).then(function(res) {\n",
       "    if (res.status === 404) {\n",
       "        div.innerHTML = 'Install QIIME 2 Jupyter extension with:<br />' +\n",
       "                        '<code>jupyter serverextension enable --py qiime2' +\n",
       "                        ' --sys-prefix</code><br />then restart your server.' +\n",
       "                        '<br /><br />(Interactive output not available on ' +\n",
       "                        'static notebook viewer services like nbviewer.)';\n",
       "    } else if (res.status === 409) {\n",
       "        div.innerHTML = 'Visualization no longer in scope. Re-run this cell' +\n",
       "                        ' to see the visualization.';\n",
       "    } else if (res.ok) {\n",
       "        url = res.url;\n",
       "        div.innerHTML = '<iframe src=\\'' + url + '\\' style=\\'' +\n",
       "                        'width: 100%; height: 700px; border: 0;\\'>' +\n",
       "                        '</iframe><hr />Open in a: <a href=\\'' + url + '\\'' +\n",
       "                        ' target=\\'_blank\\'>new window</a>'\n",
       "    } else {\n",
       "        div.innerHTML = 'Something has gone wrong. Check notebook server for' +\n",
       "                        ' errors.';\n",
       "    }\n",
       "});\n",
       "})(this.parentElement, '/qiime2/redirect?location=/var/folders/nb/_drlqg395x792y1_46fbz9lm0000gn/T/qiime2-archive-l7m40t78')\" src=\"data:image/gif;base64,R0lGODlhAQABAIAAAP///wAAACH5BAEAAAAALAAAAAABAAEAAAICRAEAOw==\" /></div>"
      ],
      "text/plain": [
       "<visualization: Visualization uuid: 49b4fcda-c69c-4e02-85d9-dc1ae025ec4d>"
      ]
     },
     "execution_count": 70,
     "metadata": {},
     "output_type": "execute_result"
    }
   ],
   "source": [
    "faith_pd_group_significance"
   ]
  },
  {
   "cell_type": "code",
   "execution_count": 71,
   "metadata": {},
   "outputs": [],
   "source": [
    "ancom_experiment_title = Visualization.load('ancom-experiment_title.qzv')"
   ]
  },
  {
   "cell_type": "code",
   "execution_count": 72,
   "metadata": {},
   "outputs": [
    {
     "data": {
      "text/html": [
       "<div><img onload=\"(function(div, url){\n",
       "if (typeof require !== 'undefined') {\n",
       "    var baseURL = require.toUrl('').split('/').slice(0, -2).join('/');\n",
       "} else {\n",
       "    var baseURL = JSON.parse(\n",
       "        document.getElementById('jupyter-config-data').innerHTML\n",
       "    ).baseUrl.slice(0, -1);\n",
       "}\n",
       "url = baseURL + url;\n",
       "fetch(url).then(function(res) {\n",
       "    if (res.status === 404) {\n",
       "        div.innerHTML = 'Install QIIME 2 Jupyter extension with:<br />' +\n",
       "                        '<code>jupyter serverextension enable --py qiime2' +\n",
       "                        ' --sys-prefix</code><br />then restart your server.' +\n",
       "                        '<br /><br />(Interactive output not available on ' +\n",
       "                        'static notebook viewer services like nbviewer.)';\n",
       "    } else if (res.status === 409) {\n",
       "        div.innerHTML = 'Visualization no longer in scope. Re-run this cell' +\n",
       "                        ' to see the visualization.';\n",
       "    } else if (res.ok) {\n",
       "        url = res.url;\n",
       "        div.innerHTML = '<iframe src=\\'' + url + '\\' style=\\'' +\n",
       "                        'width: 100%; height: 700px; border: 0;\\'>' +\n",
       "                        '</iframe><hr />Open in a: <a href=\\'' + url + '\\'' +\n",
       "                        ' target=\\'_blank\\'>new window</a>'\n",
       "    } else {\n",
       "        div.innerHTML = 'Something has gone wrong. Check notebook server for' +\n",
       "                        ' errors.';\n",
       "    }\n",
       "});\n",
       "})(this.parentElement, '/qiime2/redirect?location=/var/folders/nb/_drlqg395x792y1_46fbz9lm0000gn/T/qiime2-archive-kxi3vqgm')\" src=\"data:image/gif;base64,R0lGODlhAQABAIAAAP///wAAACH5BAEAAAAALAAAAAABAAEAAAICRAEAOw==\" /></div>"
      ],
      "text/plain": [
       "<visualization: Visualization uuid: 0d053b99-18df-4f24-b6ec-8a1c6b884ec2>"
      ]
     },
     "execution_count": 72,
     "metadata": {},
     "output_type": "execute_result"
    }
   ],
   "source": [
    "ancom_experiment_title"
   ]
  },
  {
   "cell_type": "markdown",
   "metadata": {},
   "source": [
    "#### Alpha and beta diversity analysis Visualization"
   ]
  },
  {
   "cell_type": "code",
   "execution_count": 73,
   "metadata": {},
   "outputs": [],
   "source": [
    "unweighted_unifrac_emperor = Visualization.load('all_in_one/unweighted_unifrac_emperor.qzv')"
   ]
  },
  {
   "cell_type": "code",
   "execution_count": 74,
   "metadata": {
    "scrolled": false
   },
   "outputs": [
    {
     "data": {
      "text/html": [
       "<div><img onload=\"(function(div, url){\n",
       "if (typeof require !== 'undefined') {\n",
       "    var baseURL = require.toUrl('').split('/').slice(0, -2).join('/');\n",
       "} else {\n",
       "    var baseURL = JSON.parse(\n",
       "        document.getElementById('jupyter-config-data').innerHTML\n",
       "    ).baseUrl.slice(0, -1);\n",
       "}\n",
       "url = baseURL + url;\n",
       "fetch(url).then(function(res) {\n",
       "    if (res.status === 404) {\n",
       "        div.innerHTML = 'Install QIIME 2 Jupyter extension with:<br />' +\n",
       "                        '<code>jupyter serverextension enable --py qiime2' +\n",
       "                        ' --sys-prefix</code><br />then restart your server.' +\n",
       "                        '<br /><br />(Interactive output not available on ' +\n",
       "                        'static notebook viewer services like nbviewer.)';\n",
       "    } else if (res.status === 409) {\n",
       "        div.innerHTML = 'Visualization no longer in scope. Re-run this cell' +\n",
       "                        ' to see the visualization.';\n",
       "    } else if (res.ok) {\n",
       "        url = res.url;\n",
       "        div.innerHTML = '<iframe src=\\'' + url + '\\' style=\\'' +\n",
       "                        'width: 100%; height: 700px; border: 0;\\'>' +\n",
       "                        '</iframe><hr />Open in a: <a href=\\'' + url + '\\'' +\n",
       "                        ' target=\\'_blank\\'>new window</a>'\n",
       "    } else {\n",
       "        div.innerHTML = 'Something has gone wrong. Check notebook server for' +\n",
       "                        ' errors.';\n",
       "    }\n",
       "});\n",
       "})(this.parentElement, '/qiime2/redirect?location=/var/folders/nb/_drlqg395x792y1_46fbz9lm0000gn/T/qiime2-archive-0v9_gsqd')\" src=\"data:image/gif;base64,R0lGODlhAQABAIAAAP///wAAACH5BAEAAAAALAAAAAABAAEAAAICRAEAOw==\" /></div>"
      ],
      "text/plain": [
       "<visualization: Visualization uuid: 3edfbd5d-31f8-4b6f-aefa-7a7ae248ff2d>"
      ]
     },
     "execution_count": 74,
     "metadata": {},
     "output_type": "execute_result"
    }
   ],
   "source": [
    "unweighted_unifrac_emperor"
   ]
  },
  {
   "cell_type": "code",
   "execution_count": 34,
   "metadata": {
    "scrolled": true
   },
   "outputs": [],
   "source": [
    "weighted_unifrac_emperor = Visualization.load('all_in_one/weighted_unifrac_emperor.qzv')"
   ]
  },
  {
   "cell_type": "code",
   "execution_count": 35,
   "metadata": {},
   "outputs": [
    {
     "data": {
      "text/html": [
       "<div><img onload=\"(function(div, url){\n",
       "if (typeof require !== 'undefined') {\n",
       "    var baseURL = require.toUrl('').split('/').slice(0, -2).join('/');\n",
       "} else {\n",
       "    var baseURL = JSON.parse(\n",
       "        document.getElementById('jupyter-config-data').innerHTML\n",
       "    ).baseUrl.slice(0, -1);\n",
       "}\n",
       "url = baseURL + url;\n",
       "fetch(url).then(function(res) {\n",
       "    if (res.status === 404) {\n",
       "        div.innerHTML = 'Install QIIME 2 Jupyter extension with:<br />' +\n",
       "                        '<code>jupyter serverextension enable --py qiime2' +\n",
       "                        ' --sys-prefix</code><br />then restart your server.' +\n",
       "                        '<br /><br />(Interactive output not available on ' +\n",
       "                        'static notebook viewer services like nbviewer.)';\n",
       "    } else if (res.status === 409) {\n",
       "        div.innerHTML = 'Visualization no longer in scope. Re-run this cell' +\n",
       "                        ' to see the visualization.';\n",
       "    } else if (res.ok) {\n",
       "        url = res.url;\n",
       "        div.innerHTML = '<iframe src=\\'' + url + '\\' style=\\'' +\n",
       "                        'width: 100%; height: 700px; border: 0;\\'>' +\n",
       "                        '</iframe><hr />Open in a: <a href=\\'' + url + '\\'' +\n",
       "                        ' target=\\'_blank\\'>new window</a>'\n",
       "    } else {\n",
       "        div.innerHTML = 'Something has gone wrong. Check notebook server for' +\n",
       "                        ' errors.';\n",
       "    }\n",
       "});\n",
       "})(this.parentElement, '/qiime2/redirect?location=/var/folders/nb/_drlqg395x792y1_46fbz9lm0000gn/T/qiime2-archive-30eum071')\" src=\"data:image/gif;base64,R0lGODlhAQABAIAAAP///wAAACH5BAEAAAAALAAAAAABAAEAAAICRAEAOw==\" /></div>"
      ],
      "text/plain": [
       "<visualization: Visualization uuid: e7ba8fb4-40cb-472e-842d-6d2160c0545f>"
      ]
     },
     "execution_count": 35,
     "metadata": {},
     "output_type": "execute_result"
    }
   ],
   "source": [
    "weighted_unifrac_emperor"
   ]
  },
  {
   "cell_type": "code",
   "execution_count": 38,
   "metadata": {},
   "outputs": [],
   "source": [
    "jaccard_emperor = Visualization.load('all_in_one/jaccard_emperor.qzv')"
   ]
  },
  {
   "cell_type": "code",
   "execution_count": 39,
   "metadata": {
    "scrolled": true
   },
   "outputs": [
    {
     "data": {
      "text/html": [
       "<div><img onload=\"(function(div, url){\n",
       "if (typeof require !== 'undefined') {\n",
       "    var baseURL = require.toUrl('').split('/').slice(0, -2).join('/');\n",
       "} else {\n",
       "    var baseURL = JSON.parse(\n",
       "        document.getElementById('jupyter-config-data').innerHTML\n",
       "    ).baseUrl.slice(0, -1);\n",
       "}\n",
       "url = baseURL + url;\n",
       "fetch(url).then(function(res) {\n",
       "    if (res.status === 404) {\n",
       "        div.innerHTML = 'Install QIIME 2 Jupyter extension with:<br />' +\n",
       "                        '<code>jupyter serverextension enable --py qiime2' +\n",
       "                        ' --sys-prefix</code><br />then restart your server.' +\n",
       "                        '<br /><br />(Interactive output not available on ' +\n",
       "                        'static notebook viewer services like nbviewer.)';\n",
       "    } else if (res.status === 409) {\n",
       "        div.innerHTML = 'Visualization no longer in scope. Re-run this cell' +\n",
       "                        ' to see the visualization.';\n",
       "    } else if (res.ok) {\n",
       "        url = res.url;\n",
       "        div.innerHTML = '<iframe src=\\'' + url + '\\' style=\\'' +\n",
       "                        'width: 100%; height: 700px; border: 0;\\'>' +\n",
       "                        '</iframe><hr />Open in a: <a href=\\'' + url + '\\'' +\n",
       "                        ' target=\\'_blank\\'>new window</a>'\n",
       "    } else {\n",
       "        div.innerHTML = 'Something has gone wrong. Check notebook server for' +\n",
       "                        ' errors.';\n",
       "    }\n",
       "});\n",
       "})(this.parentElement, '/qiime2/redirect?location=/var/folders/nb/_drlqg395x792y1_46fbz9lm0000gn/T/qiime2-archive-6u59xhw4')\" src=\"data:image/gif;base64,R0lGODlhAQABAIAAAP///wAAACH5BAEAAAAALAAAAAABAAEAAAICRAEAOw==\" /></div>"
      ],
      "text/plain": [
       "<visualization: Visualization uuid: ccf4718c-09c9-4727-9ba8-d1ef87cf0d19>"
      ]
     },
     "execution_count": 39,
     "metadata": {},
     "output_type": "execute_result"
    }
   ],
   "source": [
    "jaccard_emperor"
   ]
  },
  {
   "cell_type": "code",
   "execution_count": 40,
   "metadata": {},
   "outputs": [],
   "source": [
    "bray_curtis_emperor = Visualization.load('all_in_one/bray_curtis_emperor.qzv')"
   ]
  },
  {
   "cell_type": "code",
   "execution_count": 41,
   "metadata": {},
   "outputs": [
    {
     "data": {
      "text/html": [
       "<div><img onload=\"(function(div, url){\n",
       "if (typeof require !== 'undefined') {\n",
       "    var baseURL = require.toUrl('').split('/').slice(0, -2).join('/');\n",
       "} else {\n",
       "    var baseURL = JSON.parse(\n",
       "        document.getElementById('jupyter-config-data').innerHTML\n",
       "    ).baseUrl.slice(0, -1);\n",
       "}\n",
       "url = baseURL + url;\n",
       "fetch(url).then(function(res) {\n",
       "    if (res.status === 404) {\n",
       "        div.innerHTML = 'Install QIIME 2 Jupyter extension with:<br />' +\n",
       "                        '<code>jupyter serverextension enable --py qiime2' +\n",
       "                        ' --sys-prefix</code><br />then restart your server.' +\n",
       "                        '<br /><br />(Interactive output not available on ' +\n",
       "                        'static notebook viewer services like nbviewer.)';\n",
       "    } else if (res.status === 409) {\n",
       "        div.innerHTML = 'Visualization no longer in scope. Re-run this cell' +\n",
       "                        ' to see the visualization.';\n",
       "    } else if (res.ok) {\n",
       "        url = res.url;\n",
       "        div.innerHTML = '<iframe src=\\'' + url + '\\' style=\\'' +\n",
       "                        'width: 100%; height: 700px; border: 0;\\'>' +\n",
       "                        '</iframe><hr />Open in a: <a href=\\'' + url + '\\'' +\n",
       "                        ' target=\\'_blank\\'>new window</a>'\n",
       "    } else {\n",
       "        div.innerHTML = 'Something has gone wrong. Check notebook server for' +\n",
       "                        ' errors.';\n",
       "    }\n",
       "});\n",
       "})(this.parentElement, '/qiime2/redirect?location=/var/folders/nb/_drlqg395x792y1_46fbz9lm0000gn/T/qiime2-archive-lyoahr8a')\" src=\"data:image/gif;base64,R0lGODlhAQABAIAAAP///wAAACH5BAEAAAAALAAAAAABAAEAAAICRAEAOw==\" /></div>"
      ],
      "text/plain": [
       "<visualization: Visualization uuid: d2688815-4292-4c23-aeba-23f8b51c9540>"
      ]
     },
     "execution_count": 41,
     "metadata": {},
     "output_type": "execute_result"
    }
   ],
   "source": [
    "bray_curtis_emperor"
   ]
  },
  {
   "cell_type": "markdown",
   "metadata": {},
   "source": [
    "#### Evenness metrics Visualization"
   ]
  },
  {
   "cell_type": "code",
   "execution_count": 75,
   "metadata": {},
   "outputs": [],
   "source": [
    "evenness_group_significance = Visualization.load('all_in_one/evenness-group-significance.qzv')"
   ]
  },
  {
   "cell_type": "code",
   "execution_count": 76,
   "metadata": {},
   "outputs": [
    {
     "data": {
      "text/html": [
       "<div><img onload=\"(function(div, url){\n",
       "if (typeof require !== 'undefined') {\n",
       "    var baseURL = require.toUrl('').split('/').slice(0, -2).join('/');\n",
       "} else {\n",
       "    var baseURL = JSON.parse(\n",
       "        document.getElementById('jupyter-config-data').innerHTML\n",
       "    ).baseUrl.slice(0, -1);\n",
       "}\n",
       "url = baseURL + url;\n",
       "fetch(url).then(function(res) {\n",
       "    if (res.status === 404) {\n",
       "        div.innerHTML = 'Install QIIME 2 Jupyter extension with:<br />' +\n",
       "                        '<code>jupyter serverextension enable --py qiime2' +\n",
       "                        ' --sys-prefix</code><br />then restart your server.' +\n",
       "                        '<br /><br />(Interactive output not available on ' +\n",
       "                        'static notebook viewer services like nbviewer.)';\n",
       "    } else if (res.status === 409) {\n",
       "        div.innerHTML = 'Visualization no longer in scope. Re-run this cell' +\n",
       "                        ' to see the visualization.';\n",
       "    } else if (res.ok) {\n",
       "        url = res.url;\n",
       "        div.innerHTML = '<iframe src=\\'' + url + '\\' style=\\'' +\n",
       "                        'width: 100%; height: 700px; border: 0;\\'>' +\n",
       "                        '</iframe><hr />Open in a: <a href=\\'' + url + '\\'' +\n",
       "                        ' target=\\'_blank\\'>new window</a>'\n",
       "    } else {\n",
       "        div.innerHTML = 'Something has gone wrong. Check notebook server for' +\n",
       "                        ' errors.';\n",
       "    }\n",
       "});\n",
       "})(this.parentElement, '/qiime2/redirect?location=/var/folders/nb/_drlqg395x792y1_46fbz9lm0000gn/T/qiime2-archive-ftlny_qf')\" src=\"data:image/gif;base64,R0lGODlhAQABAIAAAP///wAAACH5BAEAAAAALAAAAAABAAEAAAICRAEAOw==\" /></div>"
      ],
      "text/plain": [
       "<visualization: Visualization uuid: f04c3e3c-92fe-485d-b2dc-588cf3b45a22>"
      ]
     },
     "execution_count": 76,
     "metadata": {},
     "output_type": "execute_result"
    }
   ],
   "source": [
    "evenness_group_significance"
   ]
  },
  {
   "cell_type": "markdown",
   "metadata": {},
   "source": [
    "#### Beta Diversity: unweighted UniFrac distances Visualization"
   ]
  },
  {
   "cell_type": "code",
   "execution_count": 77,
   "metadata": {},
   "outputs": [],
   "source": [
    "unweighted_unifrac_expermint_title_significance = Visualization.load('all_in_one/unweighted-unifrac-expermint-title-significance.qzv')"
   ]
  },
  {
   "cell_type": "code",
   "execution_count": 78,
   "metadata": {},
   "outputs": [
    {
     "data": {
      "text/html": [
       "<div><img onload=\"(function(div, url){\n",
       "if (typeof require !== 'undefined') {\n",
       "    var baseURL = require.toUrl('').split('/').slice(0, -2).join('/');\n",
       "} else {\n",
       "    var baseURL = JSON.parse(\n",
       "        document.getElementById('jupyter-config-data').innerHTML\n",
       "    ).baseUrl.slice(0, -1);\n",
       "}\n",
       "url = baseURL + url;\n",
       "fetch(url).then(function(res) {\n",
       "    if (res.status === 404) {\n",
       "        div.innerHTML = 'Install QIIME 2 Jupyter extension with:<br />' +\n",
       "                        '<code>jupyter serverextension enable --py qiime2' +\n",
       "                        ' --sys-prefix</code><br />then restart your server.' +\n",
       "                        '<br /><br />(Interactive output not available on ' +\n",
       "                        'static notebook viewer services like nbviewer.)';\n",
       "    } else if (res.status === 409) {\n",
       "        div.innerHTML = 'Visualization no longer in scope. Re-run this cell' +\n",
       "                        ' to see the visualization.';\n",
       "    } else if (res.ok) {\n",
       "        url = res.url;\n",
       "        div.innerHTML = '<iframe src=\\'' + url + '\\' style=\\'' +\n",
       "                        'width: 100%; height: 700px; border: 0;\\'>' +\n",
       "                        '</iframe><hr />Open in a: <a href=\\'' + url + '\\'' +\n",
       "                        ' target=\\'_blank\\'>new window</a>'\n",
       "    } else {\n",
       "        div.innerHTML = 'Something has gone wrong. Check notebook server for' +\n",
       "                        ' errors.';\n",
       "    }\n",
       "});\n",
       "})(this.parentElement, '/qiime2/redirect?location=/var/folders/nb/_drlqg395x792y1_46fbz9lm0000gn/T/qiime2-archive-ia9c_t4e')\" src=\"data:image/gif;base64,R0lGODlhAQABAIAAAP///wAAACH5BAEAAAAALAAAAAABAAEAAAICRAEAOw==\" /></div>"
      ],
      "text/plain": [
       "<visualization: Visualization uuid: 4725c0f5-7f9a-492c-aa95-b96f53c5b3a1>"
      ]
     },
     "execution_count": 78,
     "metadata": {},
     "output_type": "execute_result"
    }
   ],
   "source": [
    "unweighted_unifrac_expermint_title_significance"
   ]
  },
  {
   "cell_type": "markdown",
   "metadata": {},
   "source": [
    "#### Alpha group significance Visualization\n",
    " "
   ]
  },
  {
   "cell_type": "code",
   "execution_count": 79,
   "metadata": {},
   "outputs": [],
   "source": [
    "observed_features_group_significance = Visualization.load('observed_features_group_significance.qzv')"
   ]
  },
  {
   "cell_type": "code",
   "execution_count": 80,
   "metadata": {},
   "outputs": [
    {
     "data": {
      "text/html": [
       "<div><img onload=\"(function(div, url){\n",
       "if (typeof require !== 'undefined') {\n",
       "    var baseURL = require.toUrl('').split('/').slice(0, -2).join('/');\n",
       "} else {\n",
       "    var baseURL = JSON.parse(\n",
       "        document.getElementById('jupyter-config-data').innerHTML\n",
       "    ).baseUrl.slice(0, -1);\n",
       "}\n",
       "url = baseURL + url;\n",
       "fetch(url).then(function(res) {\n",
       "    if (res.status === 404) {\n",
       "        div.innerHTML = 'Install QIIME 2 Jupyter extension with:<br />' +\n",
       "                        '<code>jupyter serverextension enable --py qiime2' +\n",
       "                        ' --sys-prefix</code><br />then restart your server.' +\n",
       "                        '<br /><br />(Interactive output not available on ' +\n",
       "                        'static notebook viewer services like nbviewer.)';\n",
       "    } else if (res.status === 409) {\n",
       "        div.innerHTML = 'Visualization no longer in scope. Re-run this cell' +\n",
       "                        ' to see the visualization.';\n",
       "    } else if (res.ok) {\n",
       "        url = res.url;\n",
       "        div.innerHTML = '<iframe src=\\'' + url + '\\' style=\\'' +\n",
       "                        'width: 100%; height: 700px; border: 0;\\'>' +\n",
       "                        '</iframe><hr />Open in a: <a href=\\'' + url + '\\'' +\n",
       "                        ' target=\\'_blank\\'>new window</a>'\n",
       "    } else {\n",
       "        div.innerHTML = 'Something has gone wrong. Check notebook server for' +\n",
       "                        ' errors.';\n",
       "    }\n",
       "});\n",
       "})(this.parentElement, '/qiime2/redirect?location=/var/folders/nb/_drlqg395x792y1_46fbz9lm0000gn/T/qiime2-archive-_uih_9a6')\" src=\"data:image/gif;base64,R0lGODlhAQABAIAAAP///wAAACH5BAEAAAAALAAAAAABAAEAAAICRAEAOw==\" /></div>"
      ],
      "text/plain": [
       "<visualization: Visualization uuid: 5936024a-da5d-4f62-a1c4-5c45f8eb99ae>"
      ]
     },
     "execution_count": 80,
     "metadata": {},
     "output_type": "execute_result"
    }
   ],
   "source": [
    "observed_features_group_significance"
   ]
  },
  {
   "cell_type": "code",
   "execution_count": 81,
   "metadata": {},
   "outputs": [],
   "source": [
    "shannon_group_significance = Visualization.load('shannon_group_significance.qzv')"
   ]
  },
  {
   "cell_type": "code",
   "execution_count": 82,
   "metadata": {},
   "outputs": [
    {
     "data": {
      "text/html": [
       "<div><img onload=\"(function(div, url){\n",
       "if (typeof require !== 'undefined') {\n",
       "    var baseURL = require.toUrl('').split('/').slice(0, -2).join('/');\n",
       "} else {\n",
       "    var baseURL = JSON.parse(\n",
       "        document.getElementById('jupyter-config-data').innerHTML\n",
       "    ).baseUrl.slice(0, -1);\n",
       "}\n",
       "url = baseURL + url;\n",
       "fetch(url).then(function(res) {\n",
       "    if (res.status === 404) {\n",
       "        div.innerHTML = 'Install QIIME 2 Jupyter extension with:<br />' +\n",
       "                        '<code>jupyter serverextension enable --py qiime2' +\n",
       "                        ' --sys-prefix</code><br />then restart your server.' +\n",
       "                        '<br /><br />(Interactive output not available on ' +\n",
       "                        'static notebook viewer services like nbviewer.)';\n",
       "    } else if (res.status === 409) {\n",
       "        div.innerHTML = 'Visualization no longer in scope. Re-run this cell' +\n",
       "                        ' to see the visualization.';\n",
       "    } else if (res.ok) {\n",
       "        url = res.url;\n",
       "        div.innerHTML = '<iframe src=\\'' + url + '\\' style=\\'' +\n",
       "                        'width: 100%; height: 700px; border: 0;\\'>' +\n",
       "                        '</iframe><hr />Open in a: <a href=\\'' + url + '\\'' +\n",
       "                        ' target=\\'_blank\\'>new window</a>'\n",
       "    } else {\n",
       "        div.innerHTML = 'Something has gone wrong. Check notebook server for' +\n",
       "                        ' errors.';\n",
       "    }\n",
       "});\n",
       "})(this.parentElement, '/qiime2/redirect?location=/var/folders/nb/_drlqg395x792y1_46fbz9lm0000gn/T/qiime2-archive-us51k3ms')\" src=\"data:image/gif;base64,R0lGODlhAQABAIAAAP///wAAACH5BAEAAAAALAAAAAABAAEAAAICRAEAOw==\" /></div>"
      ],
      "text/plain": [
       "<visualization: Visualization uuid: 696e4829-c845-4343-8a26-be87aeb97cdd>"
      ]
     },
     "execution_count": 82,
     "metadata": {},
     "output_type": "execute_result"
    }
   ],
   "source": [
    "shannon_group_significance"
   ]
  },
  {
   "cell_type": "code",
   "execution_count": null,
   "metadata": {},
   "outputs": [],
   "source": [
    "pielou_e_group_significance = Visualization.load('pielou_e_group_significance.qzv')"
   ]
  },
  {
   "cell_type": "code",
   "execution_count": null,
   "metadata": {},
   "outputs": [],
   "source": [
    "pielou_e_group_significance"
   ]
  },
  {
   "cell_type": "code",
   "execution_count": null,
   "metadata": {},
   "outputs": [],
   "source": [
    "faith_pd_group_significance = Visualization.load('faith_pd_group_significance.qzv')"
   ]
  },
  {
   "cell_type": "code",
   "execution_count": null,
   "metadata": {},
   "outputs": [],
   "source": [
    "faith_pd_group_significance"
   ]
  },
  {
   "cell_type": "markdown",
   "metadata": {},
   "source": [
    "#### Alpha rarefaction plotting Visualization"
   ]
  },
  {
   "cell_type": "code",
   "execution_count": 83,
   "metadata": {},
   "outputs": [],
   "source": [
    "alpha_rarefaction = Visualization.load('alpha-rarefaction.qzv')"
   ]
  },
  {
   "cell_type": "code",
   "execution_count": 84,
   "metadata": {},
   "outputs": [
    {
     "data": {
      "text/html": [
       "<div><img onload=\"(function(div, url){\n",
       "if (typeof require !== 'undefined') {\n",
       "    var baseURL = require.toUrl('').split('/').slice(0, -2).join('/');\n",
       "} else {\n",
       "    var baseURL = JSON.parse(\n",
       "        document.getElementById('jupyter-config-data').innerHTML\n",
       "    ).baseUrl.slice(0, -1);\n",
       "}\n",
       "url = baseURL + url;\n",
       "fetch(url).then(function(res) {\n",
       "    if (res.status === 404) {\n",
       "        div.innerHTML = 'Install QIIME 2 Jupyter extension with:<br />' +\n",
       "                        '<code>jupyter serverextension enable --py qiime2' +\n",
       "                        ' --sys-prefix</code><br />then restart your server.' +\n",
       "                        '<br /><br />(Interactive output not available on ' +\n",
       "                        'static notebook viewer services like nbviewer.)';\n",
       "    } else if (res.status === 409) {\n",
       "        div.innerHTML = 'Visualization no longer in scope. Re-run this cell' +\n",
       "                        ' to see the visualization.';\n",
       "    } else if (res.ok) {\n",
       "        url = res.url;\n",
       "        div.innerHTML = '<iframe src=\\'' + url + '\\' style=\\'' +\n",
       "                        'width: 100%; height: 700px; border: 0;\\'>' +\n",
       "                        '</iframe><hr />Open in a: <a href=\\'' + url + '\\'' +\n",
       "                        ' target=\\'_blank\\'>new window</a>'\n",
       "    } else {\n",
       "        div.innerHTML = 'Something has gone wrong. Check notebook server for' +\n",
       "                        ' errors.';\n",
       "    }\n",
       "});\n",
       "})(this.parentElement, '/qiime2/redirect?location=/var/folders/nb/_drlqg395x792y1_46fbz9lm0000gn/T/qiime2-archive-y8grc8kn')\" src=\"data:image/gif;base64,R0lGODlhAQABAIAAAP///wAAACH5BAEAAAAALAAAAAABAAEAAAICRAEAOw==\" /></div>"
      ],
      "text/plain": [
       "<visualization: Visualization uuid: d61ac22e-5539-4b35-a4a4-801724dbb78b>"
      ]
     },
     "execution_count": 84,
     "metadata": {},
     "output_type": "execute_result"
    }
   ],
   "source": [
    "alpha_rarefaction"
   ]
  },
  {
   "cell_type": "markdown",
   "metadata": {},
   "source": [
    "#### PCoA EMPeror Visualization\n",
    " "
   ]
  },
  {
   "cell_type": "code",
   "execution_count": 52,
   "metadata": {},
   "outputs": [],
   "source": [
    "jaccard_emperor = Visualization.load('jaccard_emperor.qzv')"
   ]
  },
  {
   "cell_type": "code",
   "execution_count": 53,
   "metadata": {},
   "outputs": [
    {
     "data": {
      "text/html": [
       "<div><img onload=\"(function(div, url){\n",
       "if (typeof require !== 'undefined') {\n",
       "    var baseURL = require.toUrl('').split('/').slice(0, -2).join('/');\n",
       "} else {\n",
       "    var baseURL = JSON.parse(\n",
       "        document.getElementById('jupyter-config-data').innerHTML\n",
       "    ).baseUrl.slice(0, -1);\n",
       "}\n",
       "url = baseURL + url;\n",
       "fetch(url).then(function(res) {\n",
       "    if (res.status === 404) {\n",
       "        div.innerHTML = 'Install QIIME 2 Jupyter extension with:<br />' +\n",
       "                        '<code>jupyter serverextension enable --py qiime2' +\n",
       "                        ' --sys-prefix</code><br />then restart your server.' +\n",
       "                        '<br /><br />(Interactive output not available on ' +\n",
       "                        'static notebook viewer services like nbviewer.)';\n",
       "    } else if (res.status === 409) {\n",
       "        div.innerHTML = 'Visualization no longer in scope. Re-run this cell' +\n",
       "                        ' to see the visualization.';\n",
       "    } else if (res.ok) {\n",
       "        url = res.url;\n",
       "        div.innerHTML = '<iframe src=\\'' + url + '\\' style=\\'' +\n",
       "                        'width: 100%; height: 700px; border: 0;\\'>' +\n",
       "                        '</iframe><hr />Open in a: <a href=\\'' + url + '\\'' +\n",
       "                        ' target=\\'_blank\\'>new window</a>'\n",
       "    } else {\n",
       "        div.innerHTML = 'Something has gone wrong. Check notebook server for' +\n",
       "                        ' errors.';\n",
       "    }\n",
       "});\n",
       "})(this.parentElement, '/qiime2/redirect?location=/var/folders/nb/_drlqg395x792y1_46fbz9lm0000gn/T/qiime2-archive-4c6rp5s9')\" src=\"data:image/gif;base64,R0lGODlhAQABAIAAAP///wAAACH5BAEAAAAALAAAAAABAAEAAAICRAEAOw==\" /></div>"
      ],
      "text/plain": [
       "<visualization: Visualization uuid: 93babb3e-976f-4aed-bdf5-c63db1eaf0f1>"
      ]
     },
     "execution_count": 53,
     "metadata": {},
     "output_type": "execute_result"
    }
   ],
   "source": [
    "jaccard_emperor"
   ]
  },
  {
   "cell_type": "code",
   "execution_count": 138,
   "metadata": {},
   "outputs": [],
   "source": [
    "braycurtis_emperor = Visualization.load('braycurtis_emperor.qzv')"
   ]
  },
  {
   "cell_type": "code",
   "execution_count": 139,
   "metadata": {},
   "outputs": [
    {
     "data": {
      "text/html": [
       "<div><img onload=\"(function(div, url){\n",
       "if (typeof require !== 'undefined') {\n",
       "    var baseURL = require.toUrl('').split('/').slice(0, -2).join('/');\n",
       "} else {\n",
       "    var baseURL = JSON.parse(\n",
       "        document.getElementById('jupyter-config-data').innerHTML\n",
       "    ).baseUrl.slice(0, -1);\n",
       "}\n",
       "url = baseURL + url;\n",
       "fetch(url).then(function(res) {\n",
       "    if (res.status === 404) {\n",
       "        div.innerHTML = 'Install QIIME 2 Jupyter extension with:<br />' +\n",
       "                        '<code>jupyter serverextension enable --py qiime2' +\n",
       "                        ' --sys-prefix</code><br />then restart your server.' +\n",
       "                        '<br /><br />(Interactive output not available on ' +\n",
       "                        'static notebook viewer services like nbviewer.)';\n",
       "    } else if (res.status === 409) {\n",
       "        div.innerHTML = 'Visualization no longer in scope. Re-run this cell' +\n",
       "                        ' to see the visualization.';\n",
       "    } else if (res.ok) {\n",
       "        url = res.url;\n",
       "        div.innerHTML = '<iframe src=\\'' + url + '\\' style=\\'' +\n",
       "                        'width: 100%; height: 700px; border: 0;\\'>' +\n",
       "                        '</iframe><hr />Open in a: <a href=\\'' + url + '\\'' +\n",
       "                        ' target=\\'_blank\\'>new window</a>'\n",
       "    } else {\n",
       "        div.innerHTML = 'Something has gone wrong. Check notebook server for' +\n",
       "                        ' errors.';\n",
       "    }\n",
       "});\n",
       "})(this.parentElement, '/qiime2/redirect?location=/var/folders/nb/_drlqg395x792y1_46fbz9lm0000gn/T/qiime2-archive-8cd15x6c')\" src=\"data:image/gif;base64,R0lGODlhAQABAIAAAP///wAAACH5BAEAAAAALAAAAAABAAEAAAICRAEAOw==\" /></div>"
      ],
      "text/plain": [
       "<visualization: Visualization uuid: 3051ef06-81f9-4f2d-b216-704fc26daf38>"
      ]
     },
     "execution_count": 139,
     "metadata": {},
     "output_type": "execute_result"
    }
   ],
   "source": [
    "braycurtis_emperor"
   ]
  },
  {
   "cell_type": "code",
   "execution_count": 54,
   "metadata": {},
   "outputs": [],
   "source": [
    "unweighted_unifrac_emperor = Visualization.load('unweighted_unifrac_emperor.qzv')"
   ]
  },
  {
   "cell_type": "code",
   "execution_count": 55,
   "metadata": {},
   "outputs": [
    {
     "data": {
      "text/html": [
       "<div><img onload=\"(function(div, url){\n",
       "if (typeof require !== 'undefined') {\n",
       "    var baseURL = require.toUrl('').split('/').slice(0, -2).join('/');\n",
       "} else {\n",
       "    var baseURL = JSON.parse(\n",
       "        document.getElementById('jupyter-config-data').innerHTML\n",
       "    ).baseUrl.slice(0, -1);\n",
       "}\n",
       "url = baseURL + url;\n",
       "fetch(url).then(function(res) {\n",
       "    if (res.status === 404) {\n",
       "        div.innerHTML = 'Install QIIME 2 Jupyter extension with:<br />' +\n",
       "                        '<code>jupyter serverextension enable --py qiime2' +\n",
       "                        ' --sys-prefix</code><br />then restart your server.' +\n",
       "                        '<br /><br />(Interactive output not available on ' +\n",
       "                        'static notebook viewer services like nbviewer.)';\n",
       "    } else if (res.status === 409) {\n",
       "        div.innerHTML = 'Visualization no longer in scope. Re-run this cell' +\n",
       "                        ' to see the visualization.';\n",
       "    } else if (res.ok) {\n",
       "        url = res.url;\n",
       "        div.innerHTML = '<iframe src=\\'' + url + '\\' style=\\'' +\n",
       "                        'width: 100%; height: 700px; border: 0;\\'>' +\n",
       "                        '</iframe><hr />Open in a: <a href=\\'' + url + '\\'' +\n",
       "                        ' target=\\'_blank\\'>new window</a>'\n",
       "    } else {\n",
       "        div.innerHTML = 'Something has gone wrong. Check notebook server for' +\n",
       "                        ' errors.';\n",
       "    }\n",
       "});\n",
       "})(this.parentElement, '/qiime2/redirect?location=/var/folders/nb/_drlqg395x792y1_46fbz9lm0000gn/T/qiime2-archive-wzoqwkbw')\" src=\"data:image/gif;base64,R0lGODlhAQABAIAAAP///wAAACH5BAEAAAAALAAAAAABAAEAAAICRAEAOw==\" /></div>"
      ],
      "text/plain": [
       "<visualization: Visualization uuid: b9fcd84d-6985-43e5-9d93-05c943c81ae5>"
      ]
     },
     "execution_count": 55,
     "metadata": {},
     "output_type": "execute_result"
    }
   ],
   "source": [
    "unweighted_unifrac_emperor"
   ]
  },
  {
   "cell_type": "code",
   "execution_count": 56,
   "metadata": {},
   "outputs": [],
   "source": [
    "weighted_unifrac_emperor = Visualization.load('weighted_unifrac_emperor.qzv')"
   ]
  },
  {
   "cell_type": "code",
   "execution_count": 57,
   "metadata": {},
   "outputs": [
    {
     "data": {
      "text/html": [
       "<div><img onload=\"(function(div, url){\n",
       "if (typeof require !== 'undefined') {\n",
       "    var baseURL = require.toUrl('').split('/').slice(0, -2).join('/');\n",
       "} else {\n",
       "    var baseURL = JSON.parse(\n",
       "        document.getElementById('jupyter-config-data').innerHTML\n",
       "    ).baseUrl.slice(0, -1);\n",
       "}\n",
       "url = baseURL + url;\n",
       "fetch(url).then(function(res) {\n",
       "    if (res.status === 404) {\n",
       "        div.innerHTML = 'Install QIIME 2 Jupyter extension with:<br />' +\n",
       "                        '<code>jupyter serverextension enable --py qiime2' +\n",
       "                        ' --sys-prefix</code><br />then restart your server.' +\n",
       "                        '<br /><br />(Interactive output not available on ' +\n",
       "                        'static notebook viewer services like nbviewer.)';\n",
       "    } else if (res.status === 409) {\n",
       "        div.innerHTML = 'Visualization no longer in scope. Re-run this cell' +\n",
       "                        ' to see the visualization.';\n",
       "    } else if (res.ok) {\n",
       "        url = res.url;\n",
       "        div.innerHTML = '<iframe src=\\'' + url + '\\' style=\\'' +\n",
       "                        'width: 100%; height: 700px; border: 0;\\'>' +\n",
       "                        '</iframe><hr />Open in a: <a href=\\'' + url + '\\'' +\n",
       "                        ' target=\\'_blank\\'>new window</a>'\n",
       "    } else {\n",
       "        div.innerHTML = 'Something has gone wrong. Check notebook server for' +\n",
       "                        ' errors.';\n",
       "    }\n",
       "});\n",
       "})(this.parentElement, '/qiime2/redirect?location=/var/folders/nb/_drlqg395x792y1_46fbz9lm0000gn/T/qiime2-archive-yld4v60v')\" src=\"data:image/gif;base64,R0lGODlhAQABAIAAAP///wAAACH5BAEAAAAALAAAAAABAAEAAAICRAEAOw==\" /></div>"
      ],
      "text/plain": [
       "<visualization: Visualization uuid: 463887d3-c512-4f35-adb9-7876cd7f3995>"
      ]
     },
     "execution_count": 57,
     "metadata": {},
     "output_type": "execute_result"
    }
   ],
   "source": [
    "weighted_unifrac_emperor"
   ]
  },
  {
   "cell_type": "markdown",
   "metadata": {},
   "source": [
    "#### Beta rarefaction Visualization"
   ]
  },
  {
   "cell_type": "code",
   "execution_count": 58,
   "metadata": {},
   "outputs": [],
   "source": [
    "unweighted_unifrac_rarefaction = Visualization.load('unweighted_unifrac_rarefaction.qzv')"
   ]
  },
  {
   "cell_type": "code",
   "execution_count": 59,
   "metadata": {},
   "outputs": [
    {
     "data": {
      "text/html": [
       "<div><img onload=\"(function(div, url){\n",
       "if (typeof require !== 'undefined') {\n",
       "    var baseURL = require.toUrl('').split('/').slice(0, -2).join('/');\n",
       "} else {\n",
       "    var baseURL = JSON.parse(\n",
       "        document.getElementById('jupyter-config-data').innerHTML\n",
       "    ).baseUrl.slice(0, -1);\n",
       "}\n",
       "url = baseURL + url;\n",
       "fetch(url).then(function(res) {\n",
       "    if (res.status === 404) {\n",
       "        div.innerHTML = 'Install QIIME 2 Jupyter extension with:<br />' +\n",
       "                        '<code>jupyter serverextension enable --py qiime2' +\n",
       "                        ' --sys-prefix</code><br />then restart your server.' +\n",
       "                        '<br /><br />(Interactive output not available on ' +\n",
       "                        'static notebook viewer services like nbviewer.)';\n",
       "    } else if (res.status === 409) {\n",
       "        div.innerHTML = 'Visualization no longer in scope. Re-run this cell' +\n",
       "                        ' to see the visualization.';\n",
       "    } else if (res.ok) {\n",
       "        url = res.url;\n",
       "        div.innerHTML = '<iframe src=\\'' + url + '\\' style=\\'' +\n",
       "                        'width: 100%; height: 700px; border: 0;\\'>' +\n",
       "                        '</iframe><hr />Open in a: <a href=\\'' + url + '\\'' +\n",
       "                        ' target=\\'_blank\\'>new window</a>'\n",
       "    } else {\n",
       "        div.innerHTML = 'Something has gone wrong. Check notebook server for' +\n",
       "                        ' errors.';\n",
       "    }\n",
       "});\n",
       "})(this.parentElement, '/qiime2/redirect?location=/var/folders/nb/_drlqg395x792y1_46fbz9lm0000gn/T/qiime2-archive-eu8yesko')\" src=\"data:image/gif;base64,R0lGODlhAQABAIAAAP///wAAACH5BAEAAAAALAAAAAABAAEAAAICRAEAOw==\" /></div>"
      ],
      "text/plain": [
       "<visualization: Visualization uuid: ddfa0e3b-ae45-499a-acdf-21520c846d84>"
      ]
     },
     "execution_count": 59,
     "metadata": {},
     "output_type": "execute_result"
    }
   ],
   "source": [
    "unweighted_unifrac_rarefaction"
   ]
  },
  {
   "cell_type": "markdown",
   "metadata": {},
   "source": [
    "#### PCoA biplot\n"
   ]
  },
  {
   "cell_type": "code",
   "execution_count": 85,
   "metadata": {},
   "outputs": [],
   "source": [
    "unweighted_unifrac_emperor_biplot = Visualization.load('unweighted_unifrac_emperor_biplot.qzv')"
   ]
  },
  {
   "cell_type": "code",
   "execution_count": 86,
   "metadata": {
    "scrolled": true
   },
   "outputs": [
    {
     "data": {
      "text/html": [
       "<div><img onload=\"(function(div, url){\n",
       "if (typeof require !== 'undefined') {\n",
       "    var baseURL = require.toUrl('').split('/').slice(0, -2).join('/');\n",
       "} else {\n",
       "    var baseURL = JSON.parse(\n",
       "        document.getElementById('jupyter-config-data').innerHTML\n",
       "    ).baseUrl.slice(0, -1);\n",
       "}\n",
       "url = baseURL + url;\n",
       "fetch(url).then(function(res) {\n",
       "    if (res.status === 404) {\n",
       "        div.innerHTML = 'Install QIIME 2 Jupyter extension with:<br />' +\n",
       "                        '<code>jupyter serverextension enable --py qiime2' +\n",
       "                        ' --sys-prefix</code><br />then restart your server.' +\n",
       "                        '<br /><br />(Interactive output not available on ' +\n",
       "                        'static notebook viewer services like nbviewer.)';\n",
       "    } else if (res.status === 409) {\n",
       "        div.innerHTML = 'Visualization no longer in scope. Re-run this cell' +\n",
       "                        ' to see the visualization.';\n",
       "    } else if (res.ok) {\n",
       "        url = res.url;\n",
       "        div.innerHTML = '<iframe src=\\'' + url + '\\' style=\\'' +\n",
       "                        'width: 100%; height: 700px; border: 0;\\'>' +\n",
       "                        '</iframe><hr />Open in a: <a href=\\'' + url + '\\'' +\n",
       "                        ' target=\\'_blank\\'>new window</a>'\n",
       "    } else {\n",
       "        div.innerHTML = 'Something has gone wrong. Check notebook server for' +\n",
       "                        ' errors.';\n",
       "    }\n",
       "});\n",
       "})(this.parentElement, '/qiime2/redirect?location=/var/folders/nb/_drlqg395x792y1_46fbz9lm0000gn/T/qiime2-archive-7gbyygu_')\" src=\"data:image/gif;base64,R0lGODlhAQABAIAAAP///wAAACH5BAEAAAAALAAAAAABAAEAAAICRAEAOw==\" /></div>"
      ],
      "text/plain": [
       "<visualization: Visualization uuid: ead91df5-6903-485a-bfee-03e95954ba9c>"
      ]
     },
     "execution_count": 86,
     "metadata": {},
     "output_type": "execute_result"
    }
   ],
   "source": [
    "unweighted_unifrac_emperor_biplot"
   ]
  },
  {
   "cell_type": "code",
   "execution_count": 87,
   "metadata": {},
   "outputs": [],
   "source": [
    "unweighted_unifrac_body_site_adonis = Visualization.load('unweighted_unifrac_body_site_adonis.qzv')"
   ]
  },
  {
   "cell_type": "code",
   "execution_count": 88,
   "metadata": {},
   "outputs": [
    {
     "data": {
      "text/html": [
       "<div><img onload=\"(function(div, url){\n",
       "if (typeof require !== 'undefined') {\n",
       "    var baseURL = require.toUrl('').split('/').slice(0, -2).join('/');\n",
       "} else {\n",
       "    var baseURL = JSON.parse(\n",
       "        document.getElementById('jupyter-config-data').innerHTML\n",
       "    ).baseUrl.slice(0, -1);\n",
       "}\n",
       "url = baseURL + url;\n",
       "fetch(url).then(function(res) {\n",
       "    if (res.status === 404) {\n",
       "        div.innerHTML = 'Install QIIME 2 Jupyter extension with:<br />' +\n",
       "                        '<code>jupyter serverextension enable --py qiime2' +\n",
       "                        ' --sys-prefix</code><br />then restart your server.' +\n",
       "                        '<br /><br />(Interactive output not available on ' +\n",
       "                        'static notebook viewer services like nbviewer.)';\n",
       "    } else if (res.status === 409) {\n",
       "        div.innerHTML = 'Visualization no longer in scope. Re-run this cell' +\n",
       "                        ' to see the visualization.';\n",
       "    } else if (res.ok) {\n",
       "        url = res.url;\n",
       "        div.innerHTML = '<iframe src=\\'' + url + '\\' style=\\'' +\n",
       "                        'width: 100%; height: 700px; border: 0;\\'>' +\n",
       "                        '</iframe><hr />Open in a: <a href=\\'' + url + '\\'' +\n",
       "                        ' target=\\'_blank\\'>new window</a>'\n",
       "    } else {\n",
       "        div.innerHTML = 'Something has gone wrong. Check notebook server for' +\n",
       "                        ' errors.';\n",
       "    }\n",
       "});\n",
       "})(this.parentElement, '/qiime2/redirect?location=/var/folders/nb/_drlqg395x792y1_46fbz9lm0000gn/T/qiime2-archive-jok9f3ir')\" src=\"data:image/gif;base64,R0lGODlhAQABAIAAAP///wAAACH5BAEAAAAALAAAAAABAAEAAAICRAEAOw==\" /></div>"
      ],
      "text/plain": [
       "<visualization: Visualization uuid: 8465949a-1aa4-4f21-a3df-f5800b538730>"
      ]
     },
     "execution_count": 88,
     "metadata": {},
     "output_type": "execute_result"
    }
   ],
   "source": [
    "unweighted_unifrac_body_site_adonis"
   ]
  },
  {
   "cell_type": "markdown",
   "metadata": {},
   "source": [
    "#### Mantel test"
   ]
  },
  {
   "cell_type": "code",
   "execution_count": 89,
   "metadata": {},
   "outputs": [],
   "source": [
    "bc_vs_wu_mantel = Visualization.load('bc_vs_wu_mantel.qzv')"
   ]
  },
  {
   "cell_type": "code",
   "execution_count": 90,
   "metadata": {},
   "outputs": [
    {
     "data": {
      "text/html": [
       "<div><img onload=\"(function(div, url){\n",
       "if (typeof require !== 'undefined') {\n",
       "    var baseURL = require.toUrl('').split('/').slice(0, -2).join('/');\n",
       "} else {\n",
       "    var baseURL = JSON.parse(\n",
       "        document.getElementById('jupyter-config-data').innerHTML\n",
       "    ).baseUrl.slice(0, -1);\n",
       "}\n",
       "url = baseURL + url;\n",
       "fetch(url).then(function(res) {\n",
       "    if (res.status === 404) {\n",
       "        div.innerHTML = 'Install QIIME 2 Jupyter extension with:<br />' +\n",
       "                        '<code>jupyter serverextension enable --py qiime2' +\n",
       "                        ' --sys-prefix</code><br />then restart your server.' +\n",
       "                        '<br /><br />(Interactive output not available on ' +\n",
       "                        'static notebook viewer services like nbviewer.)';\n",
       "    } else if (res.status === 409) {\n",
       "        div.innerHTML = 'Visualization no longer in scope. Re-run this cell' +\n",
       "                        ' to see the visualization.';\n",
       "    } else if (res.ok) {\n",
       "        url = res.url;\n",
       "        div.innerHTML = '<iframe src=\\'' + url + '\\' style=\\'' +\n",
       "                        'width: 100%; height: 700px; border: 0;\\'>' +\n",
       "                        '</iframe><hr />Open in a: <a href=\\'' + url + '\\'' +\n",
       "                        ' target=\\'_blank\\'>new window</a>'\n",
       "    } else {\n",
       "        div.innerHTML = 'Something has gone wrong. Check notebook server for' +\n",
       "                        ' errors.';\n",
       "    }\n",
       "});\n",
       "})(this.parentElement, '/qiime2/redirect?location=/var/folders/nb/_drlqg395x792y1_46fbz9lm0000gn/T/qiime2-archive-izoi6mcm')\" src=\"data:image/gif;base64,R0lGODlhAQABAIAAAP///wAAACH5BAEAAAAALAAAAAABAAEAAAICRAEAOw==\" /></div>"
      ],
      "text/plain": [
       "<visualization: Visualization uuid: 4eead68b-514e-4beb-a3df-a08478833e2a>"
      ]
     },
     "execution_count": 90,
     "metadata": {},
     "output_type": "execute_result"
    }
   ],
   "source": [
    "bc_vs_wu_mantel"
   ]
  },
  {
   "cell_type": "markdown",
   "metadata": {},
   "source": [
    "#### Procrustes analysis"
   ]
  },
  {
   "cell_type": "code",
   "execution_count": 91,
   "metadata": {},
   "outputs": [],
   "source": [
    "bc_vs_wu_procrustes = Visualization.load('bc_vs_wu_procrustes.qzv')"
   ]
  },
  {
   "cell_type": "code",
   "execution_count": 92,
   "metadata": {},
   "outputs": [
    {
     "data": {
      "text/html": [
       "<div><img onload=\"(function(div, url){\n",
       "if (typeof require !== 'undefined') {\n",
       "    var baseURL = require.toUrl('').split('/').slice(0, -2).join('/');\n",
       "} else {\n",
       "    var baseURL = JSON.parse(\n",
       "        document.getElementById('jupyter-config-data').innerHTML\n",
       "    ).baseUrl.slice(0, -1);\n",
       "}\n",
       "url = baseURL + url;\n",
       "fetch(url).then(function(res) {\n",
       "    if (res.status === 404) {\n",
       "        div.innerHTML = 'Install QIIME 2 Jupyter extension with:<br />' +\n",
       "                        '<code>jupyter serverextension enable --py qiime2' +\n",
       "                        ' --sys-prefix</code><br />then restart your server.' +\n",
       "                        '<br /><br />(Interactive output not available on ' +\n",
       "                        'static notebook viewer services like nbviewer.)';\n",
       "    } else if (res.status === 409) {\n",
       "        div.innerHTML = 'Visualization no longer in scope. Re-run this cell' +\n",
       "                        ' to see the visualization.';\n",
       "    } else if (res.ok) {\n",
       "        url = res.url;\n",
       "        div.innerHTML = '<iframe src=\\'' + url + '\\' style=\\'' +\n",
       "                        'width: 100%; height: 700px; border: 0;\\'>' +\n",
       "                        '</iframe><hr />Open in a: <a href=\\'' + url + '\\'' +\n",
       "                        ' target=\\'_blank\\'>new window</a>'\n",
       "    } else {\n",
       "        div.innerHTML = 'Something has gone wrong. Check notebook server for' +\n",
       "                        ' errors.';\n",
       "    }\n",
       "});\n",
       "})(this.parentElement, '/qiime2/redirect?location=/var/folders/nb/_drlqg395x792y1_46fbz9lm0000gn/T/qiime2-archive-6s8k9bqw')\" src=\"data:image/gif;base64,R0lGODlhAQABAIAAAP///wAAACH5BAEAAAAALAAAAAABAAEAAAICRAEAOw==\" /></div>"
      ],
      "text/plain": [
       "<visualization: Visualization uuid: 55467d2e-0534-4f1e-a372-c2e91e3c08a0>"
      ]
     },
     "execution_count": 92,
     "metadata": {},
     "output_type": "execute_result"
    }
   ],
   "source": [
    "bc_vs_wu_procrustes"
   ]
  },
  {
   "cell_type": "code",
   "execution_count": null,
   "metadata": {},
   "outputs": [],
   "source": []
  }
 ],
 "metadata": {
  "kernelspec": {
   "display_name": "Python 3",
   "language": "python",
   "name": "python3"
  },
  "language_info": {
   "codemirror_mode": {
    "name": "ipython",
    "version": 3
   },
   "file_extension": ".py",
   "mimetype": "text/x-python",
   "name": "python",
   "nbconvert_exporter": "python",
   "pygments_lexer": "ipython3",
   "version": "3.6.12"
  },
  "toc": {
   "base_numbering": 1,
   "nav_menu": {},
   "number_sections": true,
   "sideBar": true,
   "skip_h1_title": false,
   "title_cell": "Table of Contents",
   "title_sidebar": "Contents",
   "toc_cell": false,
   "toc_position": {},
   "toc_section_display": true,
   "toc_window_display": false
  }
 },
 "nbformat": 4,
 "nbformat_minor": 4
}
